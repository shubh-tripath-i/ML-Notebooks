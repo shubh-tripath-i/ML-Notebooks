{
 "cells": [
  {
   "cell_type": "code",
   "execution_count": 1,
   "metadata": {},
   "outputs": [],
   "source": [
    "import tensorflow as tf\n",
    "import pandas as pd\n",
    "import numpy as np\n",
    "import matplotlib.pyplot as plt\n",
    "from sklearn.preprocessing import MinMaxScaler\n",
    "import time\n",
    "from sklearn.metrics import accuracy_score\n",
    "from tensorflow import keras"
   ]
  },
  {
   "cell_type": "code",
   "execution_count": 2,
   "metadata": {},
   "outputs": [],
   "source": [
    "training_data=pd.read_csv('C:\\Shubh\\Study MAterial\\ml\\datasets\\mnist\\mnist_train.csv')\n",
    "testing_data=pd.read_csv('C:\\Shubh\\Study MAterial\\ml\\datasets\\mnist\\mnist_test.csv')"
   ]
  },
  {
   "cell_type": "code",
   "execution_count": 4,
   "metadata": {},
   "outputs": [
    {
     "data": {
      "text/plain": [
       "0        5\n",
       "1        0\n",
       "2        4\n",
       "3        1\n",
       "4        9\n",
       "        ..\n",
       "59995    8\n",
       "59996    3\n",
       "59997    5\n",
       "59998    6\n",
       "59999    8\n",
       "Name: label, Length: 60000, dtype: int64"
      ]
     },
     "execution_count": 4,
     "metadata": {},
     "output_type": "execute_result"
    }
   ],
   "source": []
  },
  {
   "cell_type": "code",
   "execution_count": 3,
   "metadata": {},
   "outputs": [],
   "source": [
    "ytest=np.array(testing_data['label'])\n",
    "Xtest=np.array(testing_data.drop(['label'],axis=1))"
   ]
  },
  {
   "cell_type": "code",
   "execution_count": 4,
   "metadata": {},
   "outputs": [],
   "source": [
    "y=np.array(training_data['label'])                      #y=training labels\n",
    "Xdata=np.array(training_data.drop(['label'],axis=1))    #Xdata=training features                  \n",
    "yorig=y                                                 #yorig=y(so it stores original y as we will do one hot encoding on y \n",
    "                                                        # So we need it to test accuracy on training data)"
   ]
  },
  {
   "cell_type": "code",
   "execution_count": 5,
   "metadata": {},
   "outputs": [
    {
     "name": "stdout",
     "output_type": "stream",
     "text": [
      "train_label shape=(10, 60000)\n"
     ]
    }
   ],
   "source": [
    "#doing one hot encoding\n",
    "#train label=contains one hot encoded target variables\n",
    "train_label=np.zeros((10,60000))\n",
    "for col in range (60000):\n",
    "    val=y[col]\n",
    "    for row in range (10):\n",
    "        if (val==row):\n",
    "            train_label[val,col]=1\n",
    "print(\"train_label shape=\"+str(np.shape(train_label)))\n",
    "y=train_label.T\n",
    "\n",
    "#scaling training and testing features by same scale\n",
    "scaler=MinMaxScaler()\n",
    "X=scaler.fit_transform(Xdata)\n",
    "Xtest=scaler.fit_transform(Xtest)"
   ]
  },
  {
   "cell_type": "code",
   "execution_count": 6,
   "metadata": {},
   "outputs": [
    {
     "data": {
      "image/png": "[encoded data removed]",
      "text/plain": [
       "<Figure size 432x288 with 1 Axes>"
      ]
     },
     "metadata": {
      "needs_background": "light"
     },
     "output_type": "display_data"
    },
    {
     "data": {
      "text/plain": [
       "<matplotlib.image.AxesImage at 0x1d132e2b6a0>"
      ]
     },
     "execution_count": 6,
     "metadata": {},
     "output_type": "execute_result"
    },
    {
     "data": {
      "image/png": "[encoded data removed]",
      "text/plain": [
       "<Figure size 432x288 with 1 Axes>"
      ]
     },
     "metadata": {
      "needs_background": "light"
     },
     "output_type": "display_data"
    }
   ],
   "source": [
    "plt.imshow(X[10].reshape((28,28)))\n",
    "plt.show()\n",
    "plt.imshow(X[30].reshape((28,28)))"
   ]
  },
  {
   "cell_type": "code",
   "execution_count": 7,
   "metadata": {},
   "outputs": [],
   "source": [
    "X=X.reshape(60000,28,28,1)\n",
    "Xtest=Xtest.reshape(10000,28,28,1)"
   ]
  },
  {
   "cell_type": "code",
   "execution_count": 8,
   "metadata": {},
   "outputs": [
    {
     "data": {
      "text/plain": [
       "(60000, 28, 28, 1)"
      ]
     },
     "execution_count": 8,
     "metadata": {},
     "output_type": "execute_result"
    }
   ],
   "source": [
    "X.shape"
   ]
  },
  {
   "cell_type": "code",
   "execution_count": 9,
   "metadata": {},
   "outputs": [],
   "source": [
    "model=keras.Sequential()\n",
    "model.add(keras.layers.Conv2D(32,3,strides=1,padding='same',activation='relu'))\n",
    "model.add(keras.layers.Conv2D(32,3,strides=1,padding='same',activation='relu'))\n",
    "model.add(keras.layers.MaxPool2D())\n",
    "model.add(keras.layers.BatchNormalization())\n",
    "model.add(keras.layers.Dropout(0.2))\n",
    "model.add(keras.layers.Conv2D(64,3,strides=1,padding='same',activation='relu'))\n",
    "model.add(keras.layers.Conv2D(64,3,strides=1,padding='same',activation='relu'))\n",
    "model.add(keras.layers.MaxPool2D())\n",
    "model.add(keras.layers.Dropout(0.2))\n",
    "model.add(keras.layers.BatchNormalization())\n",
    "model.add(keras.layers.Conv2D(128,3,strides=1,padding='same',activation='relu'))\n",
    "model.add(keras.layers.Conv2D(128,3,strides=1,padding='same',activation='relu'))\n",
    "model.add(keras.layers.MaxPool2D())\n",
    "model.add(keras.layers.Flatten())\n",
    "model.add(keras.layers.Dropout(0.4))\n",
    "model.add(keras.layers.Dense(128,activation='relu'))\n",
    "model.add(keras.layers.Dense(10, activation='softmax'))"
   ]
  },
  {
   "cell_type": "code",
   "execution_count": 10,
   "metadata": {},
   "outputs": [],
   "source": [
    "model.compile(optimizer='adam',loss='categorical_crossentropy',metrics=['accuracy'])"
   ]
  },
  {
   "cell_type": "code",
   "execution_count": 11,
   "metadata": {},
   "outputs": [],
   "source": [
    "from tensorflow.keras.preprocessing.image import ImageDataGenerator\n",
    "datagen = ImageDataGenerator(\n",
    "        featurewise_center=False,  # set input mean to 0 over the dataset\n",
    "        samplewise_center=False,  # set each sample mean to 0\n",
    "        featurewise_std_normalization=False,  # divide inputs by std of the dataset\n",
    "        samplewise_std_normalization=False,  # divide each input by its std\n",
    "        zca_whitening=False,  # apply ZCA whitening\n",
    "        rotation_range=10,  # randomly rotate images in the range (degrees, 0 to 180)\n",
    "        zoom_range = 0.1, # Randomly zoom image \n",
    "        width_shift_range=0.1,  # randomly shift images horizontally (fraction of total width)\n",
    "        height_shift_range=0.1,  # randomly shift images vertically (fraction of total height)\n",
    "        horizontal_flip=False,  # randomly flip images\n",
    "        vertical_flip=False)  # randomly flip images\n"
   ]
  },
  {
   "cell_type": "code",
   "execution_count": null,
   "metadata": {
    "scrolled": true
   },
   "outputs": [
    {
     "name": "stdout",
     "output_type": "stream",
     "text": [
      "Epoch 1/20\n",
      "937/937 [==============================] - 25s 27ms/step - loss: 0.2198 - accuracy: 0.9295\n",
      "Epoch 2/20\n",
      "937/937 [==============================] - 25s 27ms/step - loss: 0.0808 - accuracy: 0.9762\n",
      "Epoch 3/20\n",
      "937/937 [==============================] - 26s 27ms/step - loss: 0.0645 - accuracy: 0.9811\n",
      "Epoch 4/20\n",
      "937/937 [==============================] - 24s 26ms/step - loss: 0.0544 - accuracy: 0.9837\n",
      "Epoch 5/20\n",
      "937/937 [==============================] - 26s 28ms/step - loss: 0.0506 - accuracy: 0.9856\n",
      "Epoch 6/20\n",
      "937/937 [==============================] - 26s 27ms/step - loss: 0.0470 - accuracy: 0.9860\n",
      "Epoch 7/20\n",
      "937/937 [==============================] - 24s 26ms/step - loss: 0.0412 - accuracy: 0.9879\n",
      "Epoch 8/20\n",
      "937/937 [==============================] - 24s 26ms/step - loss: 0.0413 - accuracy: 0.9881\n",
      "Epoch 9/20\n",
      " 21/937 [..............................] - ETA: 26s - loss: 0.0415 - accuracy: 0.9881"
     ]
    }
   ],
   "source": [
    "batch_size=64\n",
    "epochs=20\n",
    "model.fit(datagen.flow(X, y, batch_size=64),epochs=epochs,steps_per_epoch = X.shape[0] // batch_size)"
   ]
  },
  {
   "cell_type": "code",
   "execution_count": null,
   "metadata": {},
   "outputs": [],
   "source": [
    "pred=model.predict(Xtest)\n",
    "acc=[]\n",
    "for i in pred:\n",
    "    k=list(i)\n",
    "    acc.append(k.index(max(k)))\n",
    "testaccuracy=accuracy_score(acc,ytest)\n",
    "pred=model.predict(X)\n",
    "acc=[]\n",
    "for i in pred:\n",
    "    k=list(i)\n",
    "    acc.append(k.index(max(k)))\n",
    "trainaccuracy=accuracy_score(acc,yorig)\n",
    "print(\"Test accuracy is\",testaccuracy*100)\n",
    "print(\"Train accuracy is\",trainaccuracy*100)\n",
    "print(\"Batch size=\",batch_size,\"Epochs=\",epochs)"
   ]
  },
  {
   "cell_type": "code",
   "execution_count": null,
   "metadata": {
    "scrolled": true
   },
   "outputs": [],
   "source": [
    "model.summary()"
   ]
  },
  {
   "cell_type": "code",
   "execution_count": null,
   "metadata": {
    "scrolled": true
   },
   "outputs": [],
   "source": [
    "epochs+=5\n",
    "model.fit(datagen.flow(X, y, batch_size=64),epochs=5,steps_per_epoch = X.shape[0] // 64)\n",
    "pred=model.predict(Xtest)\n",
    "acc=[]\n",
    "for i in pred:\n",
    "    k=list(i)\n",
    "    acc.append(k.index(max(k)))\n",
    "testaccuracy=accuracy_score(acc,ytest)\n",
    "pred=model.predict(X)\n",
    "acc=[]\n",
    "for i in pred:\n",
    "    k=list(i)\n",
    "    acc.append(k.index(max(k)))\n",
    "trainaccuracy=accuracy_score(acc,yorig)\n",
    "print(\"Test accuracy is\",testaccuracy*100)\n",
    "print(\"Train accuracy is\",trainaccuracy*100)\n",
    "print(\"Batch size=\",batch_size,\"Epochs=\",epochs)"
   ]
  },
  {
   "cell_type": "code",
   "execution_count": null,
   "metadata": {},
   "outputs": [],
   "source": [
    "epochs+=5\n",
    "model.fit(datagen.flow(X, y, batch_size=64),epochs=5,steps_per_epoch = X.shape[0] // 64)\n",
    "pred=model.predict(Xtest)\n",
    "acc=[]\n",
    "for i in pred:\n",
    "    k=list(i)\n",
    "    acc.append(k.index(max(k)))\n",
    "testaccuracy=accuracy_score(acc,ytest)\n",
    "pred=model.predict(X)\n",
    "acc=[]\n",
    "for i in pred:\n",
    "    k=list(i)\n",
    "    acc.append(k.index(max(k)))\n",
    "trainaccuracy=accuracy_score(acc,yorig)\n",
    "print(\"Test accuracy is\",testaccuracy*100)\n",
    "print(\"Train accuracy is\",trainaccuracy*100)\n",
    "print(\"Batch size=\",batch_size,\"Epochs=\",epochs)"
   ]
  },
  {
   "cell_type": "code",
   "execution_count": null,
   "metadata": {},
   "outputs": [],
   "source": [
    "epochs+=5\n",
    "model.fit(datagen.flow(X, y, batch_size=64),epochs=5,steps_per_epoch = X.shape[0] // 64)\n",
    "pred=model.predict(Xtest)\n",
    "acc=[]\n",
    "for i in pred:\n",
    "    k=list(i)\n",
    "    acc.append(k.index(max(k)))\n",
    "testaccuracy=accuracy_score(acc,ytest)\n",
    "pred=model.predict(X)\n",
    "acc=[]\n",
    "for i in pred:\n",
    "    k=list(i)\n",
    "    acc.append(k.index(max(k)))\n",
    "trainaccuracy=accuracy_score(acc,yorig)\n",
    "print(\"Test accuracy is\",testaccuracy*100)\n",
    "print(\"Train accuracy is\",trainaccuracy*100)\n",
    "print(\"Batch size=\",batch_size,\"Epochs=\",epochs)"
   ]
  },
  {
   "cell_type": "code",
   "execution_count": null,
   "metadata": {},
   "outputs": [],
   "source": [
    "epochs+=5\n",
    "model.fit(datagen.flow(X, y, batch_size=64),epochs=5,steps_per_epoch = X.shape[0] // 64)\n",
    "pred=model.predict(Xtest)\n",
    "acc=[]\n",
    "for i in pred:\n",
    "    k=list(i)\n",
    "    acc.append(k.index(max(k)))\n",
    "testaccuracy=accuracy_score(acc,ytest)\n",
    "pred=model.predict(X)\n",
    "acc=[]\n",
    "for i in pred:\n",
    "    k=list(i)\n",
    "    acc.append(k.index(max(k)))\n",
    "trainaccuracy=accuracy_score(acc,yorig)\n",
    "print(\"Test accuracy is\",testaccuracy*100)\n",
    "print(\"Train accuracy is\",trainaccuracy*100)\n",
    "print(\"Batch size=\",batch_size,\"Epochs=\",epochs)"
   ]
  },
  {
   "cell_type": "code",
   "execution_count": null,
   "metadata": {},
   "outputs": [],
   "source": [
    "epochs+=5\n",
    "model.fit(datagen.flow(X, y, batch_size=64),epochs=5,steps_per_epoch = X.shape[0] // 64)\n",
    "pred=model.predict(Xtest)\n",
    "acc=[]\n",
    "for i in pred:\n",
    "    k=list(i)\n",
    "    acc.append(k.index(max(k)))\n",
    "testaccuracy=accuracy_score(acc,ytest)\n",
    "pred=model.predict(X)\n",
    "acc=[]\n",
    "for i in pred:\n",
    "    k=list(i)\n",
    "    acc.append(k.index(max(k)))\n",
    "trainaccuracy=accuracy_score(acc,yorig)\n",
    "print(\"Test accuracy is\",testaccuracy*100)\n",
    "print(\"Train accuracy is\",trainaccuracy*100)\n",
    "print(\"Batch size=\",batch_size,\"Epochs=\",epochs)"
   ]
  },
  {
   "cell_type": "code",
   "execution_count": null,
   "metadata": {},
   "outputs": [],
   "source": [
    "epochs+=5\n",
    "model.fit(datagen.flow(X, y, batch_size=64),epochs=5,steps_per_epoch = X.shape[0] // 64)\n",
    "pred=model.predict(Xtest)\n",
    "acc=[]\n",
    "for i in pred:\n",
    "    k=list(i)\n",
    "    acc.append(k.index(max(k)))\n",
    "testaccuracy=accuracy_score(acc,ytest)\n",
    "pred=model.predict(X)\n",
    "acc=[]\n",
    "for i in pred:\n",
    "    k=list(i)\n",
    "    acc.append(k.index(max(k)))\n",
    "trainaccuracy=accuracy_score(acc,yorig)\n",
    "print(\"Test accuracy is\",testaccuracy*100)\n",
    "print(\"Train accuracy is\",trainaccuracy*100)\n",
    "print(\"Batch size=\",batch_size,\"Epochs=\",epochs)"
   ]
  },
  {
   "cell_type": "code",
   "execution_count": null,
   "metadata": {},
   "outputs": [],
   "source": [
    "epochs+=5\n",
    "model.fit(datagen.flow(X, y, batch_size=64),epochs=5,steps_per_epoch = X.shape[0] // 64)\n",
    "pred=model.predict(Xtest)\n",
    "acc=[]\n",
    "for i in pred:\n",
    "    k=list(i)\n",
    "    acc.append(k.index(max(k)))\n",
    "testaccuracy=accuracy_score(acc,ytest)\n",
    "pred=model.predict(X)\n",
    "acc=[]\n",
    "for i in pred:\n",
    "    k=list(i)\n",
    "    acc.append(k.index(max(k)))\n",
    "trainaccuracy=accuracy_score(acc,yorig)\n",
    "print(\"Test accuracy is\",testaccuracy*100)\n",
    "print(\"Train accuracy is\",trainaccuracy*100)\n",
    "print(\"Batch size=\",batch_size,\"Epochs=\",epochs)"
   ]
  },
  {
   "cell_type": "code",
   "execution_count": null,
   "metadata": {},
   "outputs": [],
   "source": [
    "epochs+=5\n",
    "model.fit(datagen.flow(X, y, batch_size=64),epochs=5,steps_per_epoch = X.shape[0] // 64)\n",
    "pred=model.predict(Xtest)\n",
    "acc=[]\n",
    "for i in pred:\n",
    "    k=list(i)\n",
    "    acc.append(k.index(max(k)))\n",
    "testaccuracy=accuracy_score(acc,ytest)\n",
    "pred=model.predict(X)\n",
    "acc=[]\n",
    "for i in pred:\n",
    "    k=list(i)\n",
    "    acc.append(k.index(max(k)))\n",
    "trainaccuracy=accuracy_score(acc,yorig)\n",
    "print(\"Test accuracy is\",testaccuracy*100)\n",
    "print(\"Train accuracy is\",trainaccuracy*100)\n",
    "print(\"Batch size=\",batch_size,\"Epochs=\",epochs)"
   ]
  },
  {
   "cell_type": "code",
   "execution_count": null,
   "metadata": {},
   "outputs": [],
   "source": [
    "epochs+=5\n",
    "model.fit(datagen.flow(X, y, batch_size=64),epochs=5,steps_per_epoch = X.shape[0] // 64)\n",
    "pred=model.predict(Xtest)\n",
    "acc=[]\n",
    "for i in pred:\n",
    "    k=list(i)\n",
    "    acc.append(k.index(max(k)))\n",
    "testaccuracy=accuracy_score(acc,ytest)\n",
    "pred=model.predict(X)\n",
    "acc=[]\n",
    "for i in pred:\n",
    "    k=list(i)\n",
    "    acc.append(k.index(max(k)))\n",
    "trainaccuracy=accuracy_score(acc,yorig)\n",
    "print(\"Test accuracy is\",testaccuracy*100)\n",
    "print(\"Train accuracy is\",trainaccuracy*100)\n",
    "print(\"Batch size=\",batch_size,\"Epochs=\",epochs)"
   ]
  },
  {
   "cell_type": "code",
   "execution_count": null,
   "metadata": {},
   "outputs": [],
   "source": [
    "epochs+=5\n",
    "model.fit(datagen.flow(X, y, batch_size=64),epochs=5,steps_per_epoch = X.shape[0] // 64)\n",
    "pred=model.predict(Xtest)\n",
    "acc=[]\n",
    "for i in pred:\n",
    "    k=list(i)\n",
    "    acc.append(k.index(max(k)))\n",
    "testaccuracy=accuracy_score(acc,ytest)\n",
    "pred=model.predict(X)\n",
    "acc=[]\n",
    "for i in pred:\n",
    "    k=list(i)\n",
    "    acc.append(k.index(max(k)))\n",
    "trainaccuracy=accuracy_score(acc,yorig)\n",
    "print(\"Test accuracy is\",testaccuracy*100)\n",
    "print(\"Train accuracy is\",trainaccuracy*100)\n",
    "print(\"Batch size=\",batch_size,\"Epochs=\",epochs)"
   ]
  },
  {
   "cell_type": "code",
   "execution_count": null,
   "metadata": {},
   "outputs": [],
   "source": [
    "train_gen=datagen.flow(X, y, batch_size=64)"
   ]
  },
  {
   "cell_type": "code",
   "execution_count": null,
   "metadata": {},
   "outputs": [],
   "source": [
    "epochs+=5\n",
    "model.fit(train_gen,epochs=5,steps_per_epoch = X.shape[0] // 64)\n",
    "pred=model.predict(Xtest)\n",
    "acc=[]\n",
    "for i in pred:\n",
    "    k=list(i)\n",
    "    acc.append(k.index(max(k)))\n",
    "testaccuracy=accuracy_score(acc,ytest)\n",
    "pred=model.predict(X)\n",
    "acc=[]\n",
    "for i in pred:\n",
    "    k=list(i)\n",
    "    acc.append(k.index(max(k)))\n",
    "trainaccuracy=accuracy_score(acc,yorig)\n",
    "print(\"Test accuracy is\",testaccuracy*100)\n",
    "print(\"Train accuracy is\",trainaccuracy*100)\n",
    "print(\"Batch size=\",batch_size,\"Epochs=\",epochs)"
   ]
  },
  {
   "cell_type": "code",
   "execution_count": null,
   "metadata": {},
   "outputs": [],
   "source": [
    "epochs+=5\n",
    "model.fit(train_gen,epochs=5,steps_per_epoch = X.shape[0] // 64)\n",
    "pred=model.predict(Xtest)\n",
    "acc=[]\n",
    "for i in pred:\n",
    "    k=list(i)\n",
    "    acc.append(k.index(max(k)))\n",
    "testaccuracy=accuracy_score(acc,ytest)\n",
    "pred=model.predict(X)\n",
    "acc=[]\n",
    "for i in pred:\n",
    "    k=list(i)\n",
    "    acc.append(k.index(max(k)))\n",
    "trainaccuracy=accuracy_score(acc,yorig)\n",
    "print(\"Test accuracy is\",testaccuracy*100)\n",
    "print(\"Train accuracy is\",trainaccuracy*100)\n",
    "print(\"Batch size=\",batch_size,\"Epochs=\",epochs)"
   ]
  },
  {
   "cell_type": "code",
   "execution_count": null,
   "metadata": {},
   "outputs": [],
   "source": [
    "epochs+=5\n",
    "model.fit(train_gen,epochs=5,steps_per_epoch = X.shape[0] // 64)\n",
    "pred=model.predict(Xtest)\n",
    "acc=[]\n",
    "for i in pred:\n",
    "    k=list(i)\n",
    "    acc.append(k.index(max(k)))\n",
    "testaccuracy=accuracy_score(acc,ytest)\n",
    "pred=model.predict(X)\n",
    "acc=[]\n",
    "for i in pred:\n",
    "    k=list(i)\n",
    "    acc.append(k.index(max(k)))\n",
    "trainaccuracy=accuracy_score(acc,yorig)\n",
    "print(\"Test accuracy is\",testaccuracy*100)\n",
    "print(\"Train accuracy is\",trainaccuracy*100)\n",
    "print(\"Batch size=\",batch_size,\"Epochs=\",epochs)"
   ]
  },
  {
   "cell_type": "code",
   "execution_count": null,
   "metadata": {},
   "outputs": [],
   "source": [
    "epochs+=5\n",
    "model.fit(train_gen,epochs=5,steps_per_epoch = X.shape[0] // 64)\n",
    "pred=model.predict(Xtest)\n",
    "acc=[]\n",
    "for i in pred:\n",
    "    k=list(i)\n",
    "    acc.append(k.index(max(k)))\n",
    "testaccuracy=accuracy_score(acc,ytest)\n",
    "pred=model.predict(X)\n",
    "acc=[]\n",
    "for i in pred:\n",
    "    k=list(i)\n",
    "    acc.append(k.index(max(k)))\n",
    "trainaccuracy=accuracy_score(acc,yorig)\n",
    "print(\"Test accuracy is\",testaccuracy*100)\n",
    "print(\"Train accuracy is\",trainaccuracy*100)\n",
    "print(\"Batch size=\",batch_size,\"Epochs=\",epochs)"
   ]
  },
  {
   "cell_type": "code",
   "execution_count": null,
   "metadata": {},
   "outputs": [],
   "source": [
    "epochs+=5\n",
    "model.fit(train_gen,epochs=5,steps_per_epoch = X.shape[0] // 64)\n",
    "pred=model.predict(Xtest)\n",
    "acc=[]\n",
    "for i in pred:\n",
    "    k=list(i)\n",
    "    acc.append(k.index(max(k)))\n",
    "testaccuracy=accuracy_score(acc,ytest)\n",
    "pred=model.predict(X)\n",
    "acc=[]\n",
    "for i in pred:\n",
    "    k=list(i)\n",
    "    acc.append(k.index(max(k)))\n",
    "trainaccuracy=accuracy_score(acc,yorig)\n",
    "print(\"Test accuracy is\",testaccuracy*100)\n",
    "print(\"Train accuracy is\",trainaccuracy*100)\n",
    "print(\"Batch size=\",batch_size,\"Epochs=\",epochs)"
   ]
  },
  {
   "cell_type": "code",
   "execution_count": null,
   "metadata": {},
   "outputs": [],
   "source": [
    "epochs+=5\n",
    "model.fit(train_gen,epochs=5,steps_per_epoch = X.shape[0] // 64)\n",
    "pred=model.predict(Xtest)\n",
    "acc=[]\n",
    "for i in pred:\n",
    "    k=list(i)\n",
    "    acc.append(k.index(max(k)))\n",
    "testaccuracy=accuracy_score(acc,ytest)\n",
    "pred=model.predict(X)\n",
    "acc=[]\n",
    "for i in pred:\n",
    "    k=list(i)\n",
    "    acc.append(k.index(max(k)))\n",
    "trainaccuracy=accuracy_score(acc,yorig)\n",
    "print(\"Test accuracy is\",testaccuracy*100)\n",
    "print(\"Train accuracy is\",trainaccuracy*100)\n",
    "print(\"Batch size=\",batch_size,\"Epochs=\",epochs)"
   ]
  },
  {
   "cell_type": "code",
   "execution_count": null,
   "metadata": {},
   "outputs": [],
   "source": [
    "epochs+=5\n",
    "model.fit(train_gen,epochs=5,steps_per_epoch = X.shape[0] // 64)\n",
    "pred=model.predict(Xtest)\n",
    "acc=[]\n",
    "for i in pred:\n",
    "    k=list(i)\n",
    "    acc.append(k.index(max(k)))\n",
    "testaccuracy=accuracy_score(acc,ytest)\n",
    "pred=model.predict(X)\n",
    "acc=[]\n",
    "for i in pred:\n",
    "    k=list(i)\n",
    "    acc.append(k.index(max(k)))\n",
    "trainaccuracy=accuracy_score(acc,yorig)\n",
    "print(\"Test accuracy is\",testaccuracy*100)\n",
    "print(\"Train accuracy is\",trainaccuracy*100)\n",
    "print(\"Batch size=\",batch_size,\"Epochs=\",epochs)"
   ]
  },
  {
   "cell_type": "code",
   "execution_count": null,
   "metadata": {},
   "outputs": [],
   "source": [
    "epochs+=5\n",
    "model.fit(train_gen,epochs=5,steps_per_epoch = X.shape[0] // 64)\n",
    "pred=model.predict(Xtest)\n",
    "acc=[]\n",
    "for i in pred:\n",
    "    k=list(i)\n",
    "    acc.append(k.index(max(k)))\n",
    "testaccuracy=accuracy_score(acc,ytest)\n",
    "pred=model.predict(X)\n",
    "acc=[]\n",
    "for i in pred:\n",
    "    k=list(i)\n",
    "    acc.append(k.index(max(k)))\n",
    "trainaccuracy=accuracy_score(acc,yorig)\n",
    "print(\"Test accuracy is\",testaccuracy*100)\n",
    "print(\"Train accuracy is\",trainaccuracy*100)\n",
    "print(\"Batch size=\",batch_size,\"Epochs=\",epochs)"
   ]
  },
  {
   "cell_type": "code",
   "execution_count": null,
   "metadata": {},
   "outputs": [],
   "source": [
    "epochs+=5\n",
    "model.fit(train_gen,epochs=5,steps_per_epoch = X.shape[0] // 64)\n",
    "pred=model.predict(Xtest)\n",
    "acc=[]\n",
    "for i in pred:\n",
    "    k=list(i)\n",
    "    acc.append(k.index(max(k)))\n",
    "testaccuracy=accuracy_score(acc,ytest)\n",
    "pred=model.predict(X)\n",
    "acc=[]\n",
    "for i in pred:\n",
    "    k=list(i)\n",
    "    acc.append(k.index(max(k)))\n",
    "trainaccuracy=accuracy_score(acc,yorig)\n",
    "print(\"Test accuracy is\",testaccuracy*100)\n",
    "print(\"Train accuracy is\",trainaccuracy*100)\n",
    "print(\"Batch size=\",batch_size,\"Epochs=\",epochs)"
   ]
  },
  {
   "cell_type": "code",
   "execution_count": null,
   "metadata": {},
   "outputs": [],
   "source": [
    "epochs+=5\n",
    "model.fit(train_gen,epochs=5,steps_per_epoch = X.shape[0] // 64)\n",
    "pred=model.predict(Xtest)\n",
    "acc=[]\n",
    "for i in pred:\n",
    "    k=list(i)\n",
    "    acc.append(k.index(max(k)))\n",
    "testaccuracy=accuracy_score(acc,ytest)\n",
    "pred=model.predict(X)\n",
    "acc=[]\n",
    "for i in pred:\n",
    "    k=list(i)\n",
    "    acc.append(k.index(max(k)))\n",
    "trainaccuracy=accuracy_score(acc,yorig)\n",
    "print(\"Test accuracy is\",testaccuracy*100)\n",
    "print(\"Train accuracy is\",trainaccuracy*100)\n",
    "print(\"Batch size=\",batch_size,\"Epochs=\",epochs)"
   ]
  },
  {
   "cell_type": "code",
   "execution_count": null,
   "metadata": {},
   "outputs": [],
   "source": [
    "epochs+=5\n",
    "model.fit(train_gen,epochs=5,steps_per_epoch = X.shape[0] // 64)\n",
    "pred=model.predict(Xtest)\n",
    "acc=[]\n",
    "for i in pred:\n",
    "    k=list(i)\n",
    "    acc.append(k.index(max(k)))\n",
    "testaccuracy=accuracy_score(acc,ytest)\n",
    "pred=model.predict(X)\n",
    "acc=[]\n",
    "for i in pred:\n",
    "    k=list(i)\n",
    "    acc.append(k.index(max(k)))\n",
    "trainaccuracy=accuracy_score(acc,yorig)\n",
    "print(\"Test accuracy is\",testaccuracy*100)\n",
    "print(\"Train accuracy is\",trainaccuracy*100)\n",
    "print(\"Batch size=\",batch_size,\"Epochs=\",epochs)"
   ]
  },
  {
   "cell_type": "code",
   "execution_count": null,
   "metadata": {},
   "outputs": [],
   "source": [
    "epochs+=5\n",
    "model.fit(train_gen,epochs=5,steps_per_epoch = X.shape[0] // 64)\n",
    "pred=model.predict(Xtest)\n",
    "acc=[]\n",
    "for i in pred:\n",
    "    k=list(i)\n",
    "    acc.append(k.index(max(k)))\n",
    "testaccuracy=accuracy_score(acc,ytest)\n",
    "pred=model.predict(X)\n",
    "acc=[]\n",
    "for i in pred:\n",
    "    k=list(i)\n",
    "    acc.append(k.index(max(k)))\n",
    "trainaccuracy=accuracy_score(acc,yorig)\n",
    "print(\"Test accuracy is\",testaccuracy*100)\n",
    "print(\"Train accuracy is\",trainaccuracy*100)\n",
    "print(\"Batch size=\",batch_size,\"Epochs=\",epochs)"
   ]
  },
  {
   "cell_type": "code",
   "execution_count": null,
   "metadata": {},
   "outputs": [],
   "source": [
    "epochs+=5\n",
    "model.fit(train_gen,epochs=5,steps_per_epoch = X.shape[0] // 64)\n",
    "pred=model.predict(Xtest)\n",
    "acc=[]\n",
    "for i in pred:\n",
    "    k=list(i)\n",
    "    acc.append(k.index(max(k)))\n",
    "testaccuracy=accuracy_score(acc,ytest)\n",
    "pred=model.predict(X)\n",
    "acc=[]\n",
    "for i in pred:\n",
    "    k=list(i)\n",
    "    acc.append(k.index(max(k)))\n",
    "trainaccuracy=accuracy_score(acc,yorig)\n",
    "print(\"Test accuracy is\",testaccuracy*100)\n",
    "print(\"Train accuracy is\",trainaccuracy*100)\n",
    "print(\"Batch size=\",batch_size,\"Epochs=\",epochs)"
   ]
  },
  {
   "cell_type": "code",
   "execution_count": null,
   "metadata": {},
   "outputs": [],
   "source": [
    "epochs+=5\n",
    "model.fit(train_gen,epochs=5,steps_per_epoch = X.shape[0] // 64)\n",
    "pred=model.predict(Xtest)\n",
    "acc=[]\n",
    "for i in pred:\n",
    "    k=list(i)\n",
    "    acc.append(k.index(max(k)))\n",
    "testaccuracy=accuracy_score(acc,ytest)\n",
    "pred=model.predict(X)\n",
    "acc=[]\n",
    "for i in pred:\n",
    "    k=list(i)\n",
    "    acc.append(k.index(max(k)))\n",
    "trainaccuracy=accuracy_score(acc,yorig)\n",
    "print(\"Test accuracy is\",testaccuracy*100)\n",
    "print(\"Train accuracy is\",trainaccuracy*100)\n",
    "print(\"Batch size=\",batch_size,\"Epochs=\",epochs)"
   ]
  },
  {
   "cell_type": "code",
   "execution_count": null,
   "metadata": {},
   "outputs": [],
   "source": [
    "epochs+=5\n",
    "model.fit(train_gen,epochs=5,steps_per_epoch = X.shape[0] // 64)\n",
    "pred=model.predict(Xtest)\n",
    "acc=[]\n",
    "for i in pred:\n",
    "    k=list(i)\n",
    "    acc.append(k.index(max(k)))\n",
    "testaccuracy=accuracy_score(acc,ytest)\n",
    "pred=model.predict(X)\n",
    "acc=[]\n",
    "for i in pred:\n",
    "    k=list(i)\n",
    "    acc.append(k.index(max(k)))\n",
    "trainaccuracy=accuracy_score(acc,yorig)\n",
    "print(\"Test accuracy is\",testaccuracy*100)\n",
    "print(\"Train accuracy is\",trainaccuracy*100)\n",
    "print(\"Batch size=\",batch_size,\"Epochs=\",epochs)"
   ]
  },
  {
   "cell_type": "code",
   "execution_count": null,
   "metadata": {},
   "outputs": [],
   "source": [
    "epochs+=5\n",
    "model.fit(train_gen,epochs=5,steps_per_epoch = X.shape[0] // 64)\n",
    "pred=model.predict(Xtest)\n",
    "acc=[]\n",
    "for i in pred:\n",
    "    k=list(i)\n",
    "    acc.append(k.index(max(k)))\n",
    "testaccuracy=accuracy_score(acc,ytest)\n",
    "pred=model.predict(X)\n",
    "acc=[]\n",
    "for i in pred:\n",
    "    k=list(i)\n",
    "    acc.append(k.index(max(k)))\n",
    "trainaccuracy=accuracy_score(acc,yorig)\n",
    "print(\"Test accuracy is\",testaccuracy*100)\n",
    "print(\"Train accuracy is\",trainaccuracy*100)\n",
    "print(\"Batch size=\",batch_size,\"Epochs=\",epochs)"
   ]
  },
  {
   "cell_type": "code",
   "execution_count": null,
   "metadata": {},
   "outputs": [],
   "source": [
    "epochs+=5\n",
    "model.fit(train_gen,epochs=5,steps_per_epoch = X.shape[0] // 64)\n",
    "pred=model.predict(Xtest)\n",
    "acc=[]\n",
    "for i in pred:\n",
    "    k=list(i)\n",
    "    acc.append(k.index(max(k)))\n",
    "testaccuracy=accuracy_score(acc,ytest)\n",
    "pred=model.predict(X)\n",
    "acc=[]\n",
    "for i in pred:\n",
    "    k=list(i)\n",
    "    acc.append(k.index(max(k)))\n",
    "trainaccuracy=accuracy_score(acc,yorig)\n",
    "print(\"Test accuracy is\",testaccuracy*100)\n",
    "print(\"Train accuracy is\",trainaccuracy*100)\n",
    "print(\"Batch size=\",batch_size,\"Epochs=\",epochs)"
   ]
  },
  {
   "cell_type": "code",
   "execution_count": null,
   "metadata": {},
   "outputs": [],
   "source": [
    "epochs+=5\n",
    "model.fit(train_gen,epochs=5,steps_per_epoch = X.shape[0] // 64)\n",
    "pred=model.predict(Xtest)\n",
    "acc=[]\n",
    "for i in pred:\n",
    "    k=list(i)\n",
    "    acc.append(k.index(max(k)))\n",
    "testaccuracy=accuracy_score(acc,ytest)\n",
    "pred=model.predict(X)\n",
    "acc=[]\n",
    "for i in pred:\n",
    "    k=list(i)\n",
    "    acc.append(k.index(max(k)))\n",
    "trainaccuracy=accuracy_score(acc,yorig)\n",
    "print(\"Test accuracy is\",testaccuracy*100)\n",
    "print(\"Train accuracy is\",trainaccuracy*100)\n",
    "print(\"Batch size=\",batch_size,\"Epochs=\",epochs)"
   ]
  },
  {
   "cell_type": "code",
   "execution_count": null,
   "metadata": {},
   "outputs": [],
   "source": [
    "epochs+=5\n",
    "model.fit(train_gen,epochs=5,steps_per_epoch = X.shape[0] // 64)\n",
    "pred=model.predict(Xtest)\n",
    "acc=[]\n",
    "for i in pred:\n",
    "    k=list(i)\n",
    "    acc.append(k.index(max(k)))\n",
    "testaccuracy=accuracy_score(acc,ytest)\n",
    "pred=model.predict(X)\n",
    "acc=[]\n",
    "for i in pred:\n",
    "    k=list(i)\n",
    "    acc.append(k.index(max(k)))\n",
    "trainaccuracy=accuracy_score(acc,yorig)\n",
    "print(\"Test accuracy is\",testaccuracy*100)\n",
    "print(\"Train accuracy is\",trainaccuracy*100)\n",
    "print(\"Batch size=\",batch_size,\"Epochs=\",epochs)"
   ]
  },
  {
   "cell_type": "code",
   "execution_count": null,
   "metadata": {},
   "outputs": [],
   "source": [
    "epochs+=5\n",
    "model.fit(train_gen,epochs=5,steps_per_epoch = X.shape[0] // 64)\n",
    "pred=model.predict(Xtest)\n",
    "acc=[]\n",
    "for i in pred:\n",
    "    k=list(i)\n",
    "    acc.append(k.index(max(k)))\n",
    "testaccuracy=accuracy_score(acc,ytest)\n",
    "pred=model.predict(X)\n",
    "acc=[]\n",
    "for i in pred:\n",
    "    k=list(i)\n",
    "    acc.append(k.index(max(k)))\n",
    "trainaccuracy=accuracy_score(acc,yorig)\n",
    "print(\"Test accuracy is\",testaccuracy*100)\n",
    "print(\"Train accuracy is\",trainaccuracy*100)\n",
    "print(\"Batch size=\",batch_size,\"Epochs=\",epochs)"
   ]
  },
  {
   "cell_type": "code",
   "execution_count": null,
   "metadata": {},
   "outputs": [],
   "source": [
    "epochs+=5\n",
    "model.fit(train_gen,epochs=5,steps_per_epoch = X.shape[0] // 64)\n",
    "pred=model.predict(Xtest)\n",
    "acc=[]\n",
    "for i in pred:\n",
    "    k=list(i)\n",
    "    acc.append(k.index(max(k)))\n",
    "testaccuracy=accuracy_score(acc,ytest)\n",
    "pred=model.predict(X)\n",
    "acc=[]\n",
    "for i in pred:\n",
    "    k=list(i)\n",
    "    acc.append(k.index(max(k)))\n",
    "trainaccuracy=accuracy_score(acc,yorig)\n",
    "print(\"Test accuracy is\",testaccuracy*100)\n",
    "print(\"Train accuracy is\",trainaccuracy*100)\n",
    "print(\"Batch size=\",batch_size,\"Epochs=\",epochs)"
   ]
  },
  {
   "cell_type": "code",
   "execution_count": null,
   "metadata": {},
   "outputs": [],
   "source": [
    "epochs+=5\n",
    "model.fit(train_gen,epochs=5,steps_per_epoch = X.shape[0] // 64)\n",
    "pred=model.predict(Xtest)\n",
    "acc=[]\n",
    "for i in pred:\n",
    "    k=list(i)\n",
    "    acc.append(k.index(max(k)))\n",
    "testaccuracy=accuracy_score(acc,ytest)\n",
    "pred=model.predict(X)\n",
    "acc=[]\n",
    "for i in pred:\n",
    "    k=list(i)\n",
    "    acc.append(k.index(max(k)))\n",
    "trainaccuracy=accuracy_score(acc,yorig)\n",
    "print(\"Test accuracy is\",testaccuracy*100)\n",
    "print(\"Train accuracy is\",trainaccuracy*100)\n",
    "print(\"Batch size=\",batch_size,\"Epochs=\",epochs)"
   ]
  },
  {
   "cell_type": "code",
   "execution_count": null,
   "metadata": {},
   "outputs": [],
   "source": [
    "epochs+=5\n",
    "model.fit(train_gen,epochs=5,steps_per_epoch = X.shape[0] // 64)\n",
    "pred=model.predict(Xtest)\n",
    "acc=[]\n",
    "for i in pred:\n",
    "    k=list(i)\n",
    "    acc.append(k.index(max(k)))\n",
    "testaccuracy=accuracy_score(acc,ytest)\n",
    "pred=model.predict(X)\n",
    "acc=[]\n",
    "for i in pred:\n",
    "    k=list(i)\n",
    "    acc.append(k.index(max(k)))\n",
    "trainaccuracy=accuracy_score(acc,yorig)\n",
    "print(\"Test accuracy is\",testaccuracy*100)\n",
    "print(\"Train accuracy is\",trainaccuracy*100)\n",
    "print(\"Batch size=\",batch_size,\"Epochs=\",epochs)"
   ]
  },
  {
   "cell_type": "code",
   "execution_count": null,
   "metadata": {},
   "outputs": [],
   "source": [
    "epochs+=5\n",
    "model.fit(train_gen,epochs=5,steps_per_epoch = X.shape[0] // 64)\n",
    "pred=model.predict(Xtest)\n",
    "acc=[]\n",
    "for i in pred:\n",
    "    k=list(i)\n",
    "    acc.append(k.index(max(k)))\n",
    "testaccuracy=accuracy_score(acc,ytest)\n",
    "pred=model.predict(X)\n",
    "acc=[]\n",
    "for i in pred:\n",
    "    k=list(i)\n",
    "    acc.append(k.index(max(k)))\n",
    "trainaccuracy=accuracy_score(acc,yorig)\n",
    "print(\"Test accuracy is\",testaccuracy*100)\n",
    "print(\"Train accuracy is\",trainaccuracy*100)\n",
    "print(\"Batch size=\",batch_size,\"Epochs=\",epochs)"
   ]
  },
  {
   "cell_type": "code",
   "execution_count": null,
   "metadata": {},
   "outputs": [],
   "source": [
    "epochs+=5\n",
    "model.fit(train_gen,epochs=5,steps_per_epoch = X.shape[0] // 64)\n",
    "pred=model.predict(Xtest)\n",
    "acc=[]\n",
    "for i in pred:\n",
    "    k=list(i)\n",
    "    acc.append(k.index(max(k)))\n",
    "testaccuracy=accuracy_score(acc,ytest)\n",
    "pred=model.predict(X)\n",
    "acc=[]\n",
    "for i in pred:\n",
    "    k=list(i)\n",
    "    acc.append(k.index(max(k)))\n",
    "trainaccuracy=accuracy_score(acc,yorig)\n",
    "print(\"Test accuracy is\",testaccuracy*100)\n",
    "print(\"Train accuracy is\",trainaccuracy*100)\n",
    "print(\"Batch size=\",batch_size,\"Epochs=\",epochs)"
   ]
  },
  {
   "cell_type": "code",
   "execution_count": null,
   "metadata": {},
   "outputs": [],
   "source": [
    "epochs+=5\n",
    "model.fit(train_gen,epochs=5,steps_per_epoch = X.shape[0] // 64)\n",
    "pred=model.predict(Xtest)\n",
    "acc=[]\n",
    "for i in pred:\n",
    "    k=list(i)\n",
    "    acc.append(k.index(max(k)))\n",
    "testaccuracy=accuracy_score(acc,ytest)\n",
    "pred=model.predict(X)\n",
    "acc=[]\n",
    "for i in pred:\n",
    "    k=list(i)\n",
    "    acc.append(k.index(max(k)))\n",
    "trainaccuracy=accuracy_score(acc,yorig)\n",
    "print(\"Test accuracy is\",testaccuracy*100)\n",
    "print(\"Train accuracy is\",trainaccuracy*100)\n",
    "print(\"Batch size=\",batch_size,\"Epochs=\",epochs)"
   ]
  },
  {
   "cell_type": "code",
   "execution_count": null,
   "metadata": {},
   "outputs": [],
   "source": [
    "epochs+=5\n",
    "model.fit(train_gen,epochs=5,steps_per_epoch = X.shape[0] // 64)\n",
    "pred=model.predict(Xtest)\n",
    "acc=[]\n",
    "for i in pred:\n",
    "    k=list(i)\n",
    "    acc.append(k.index(max(k)))\n",
    "testaccuracy=accuracy_score(acc,ytest)\n",
    "pred=model.predict(X)\n",
    "acc=[]\n",
    "for i in pred:\n",
    "    k=list(i)\n",
    "    acc.append(k.index(max(k)))\n",
    "trainaccuracy=accuracy_score(acc,yorig)\n",
    "print(\"Test accuracy is\",testaccuracy*100)\n",
    "print(\"Train accuracy is\",trainaccuracy*100)\n",
    "print(\"Batch size=\",batch_size,\"Epochs=\",epochs)"
   ]
  },
  {
   "cell_type": "code",
   "execution_count": null,
   "metadata": {},
   "outputs": [],
   "source": []
  },
  {
   "cell_type": "code",
   "execution_count": null,
   "metadata": {},
   "outputs": [],
   "source": []
  },
  {
   "cell_type": "code",
   "execution_count": null,
   "metadata": {},
   "outputs": [],
   "source": []
  },
  {
   "cell_type": "code",
   "execution_count": null,
   "metadata": {},
   "outputs": [],
   "source": []
  },
  {
   "cell_type": "code",
   "execution_count": null,
   "metadata": {},
   "outputs": [],
   "source": []
  },
  {
   "cell_type": "code",
   "execution_count": null,
   "metadata": {},
   "outputs": [],
   "source": []
  },
  {
   "cell_type": "code",
   "execution_count": null,
   "metadata": {},
   "outputs": [],
   "source": []
  },
  {
   "cell_type": "code",
   "execution_count": null,
   "metadata": {},
   "outputs": [],
   "source": []
  },
  {
   "cell_type": "code",
   "execution_count": null,
   "metadata": {},
   "outputs": [],
   "source": []
  }
 ],
 "metadata": {
  "kernelspec": {
   "display_name": "Python 3",
   "language": "python",
   "name": "python3"
  },
  "language_info": {
   "codemirror_mode": {
    "name": "ipython",
    "version": 3
   },
   "file_extension": ".py",
   "mimetype": "text/x-python",
   "name": "python",
   "nbconvert_exporter": "python",
   "pygments_lexer": "ipython3",
   "version": "3.8.5"
  }
 },
 "nbformat": 4,
 "nbformat_minor": 4
}
