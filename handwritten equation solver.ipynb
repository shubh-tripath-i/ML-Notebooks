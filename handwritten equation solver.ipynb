{
 "cells": [
  {
   "cell_type": "code",
   "execution_count": 1,
   "metadata": {},
   "outputs": [],
   "source": [
    "import numpy as np\n",
    "import cv2\n",
    "from PIL import Image\n",
    "from matplotlib import pyplot as plt\n",
    "%matplotlib inline\n",
    "import os\n",
    "from os import listdir\n",
    "from os.path import isfile, join\n",
    "import pandas as pd\n",
    "from sklearn.model_selection import train_test_split\n",
    "from sklearn.metrics import accuracy_score\n",
    "import tensorflow as tf\n",
    "from tensorflow import keras\n",
    "from tensorflow.keras.models import Model\n",
    "from tensorflow.keras.layers import *\n",
    "from tensorflow.keras import optimizers\n",
    "from tensorflow.keras.layers import Input, Dense\n",
    "from tensorflow.keras.models import Sequential\n",
    "from tensorflow.keras.layers import Dense\n",
    "from tensorflow.keras.layers import Dropout\n",
    "from tensorflow.keras.layers import Flatten\n",
    "from tensorflow.keras.layers import Conv2D\n",
    "from tensorflow.keras.layers import MaxPooling2D"
   ]
  },
  {
   "cell_type": "markdown",
   "metadata": {},
   "source": [
    "# Dataset generation"
   ]
  },
  {
   "cell_type": "code",
   "execution_count": 2,
   "metadata": {},
   "outputs": [],
   "source": [
    "def load_images_from_folder(folder):\n",
    "    train_data=[]\n",
    "    count = 0\n",
    "    for filename in os.listdir(folder):\n",
    "        count += 1\n",
    "        if count == 4001:\n",
    "            return train_data\n",
    "        img = cv2.imread(os.path.join(folder,filename),cv2.IMREAD_GRAYSCALE) #reading grayscale image\n",
    "        img=~img #converting to it's negative\n",
    "        if img is not None:\n",
    "            ret,thresh=cv2.threshold(img,127,255,cv2.THRESH_BINARY) #converting grayscale to binary\n",
    "            ctrs,ret=cv2.findContours(thresh,cv2.RETR_EXTERNAL,cv2.CHAIN_APPROX_NONE) #finding contours\n",
    "            \n",
    "            #most of the times it return only one contour as there is only one symbol in one image\n",
    "            #but in some images that image has some disconnected parts so it gives two or more contours.\n",
    "            #But we want our rectangle to contain the whole digit and then we select the contour with maximum area.\n",
    "            \n",
    "            cnt=sorted(ctrs, key=lambda ctr: cv2.boundingRect(ctr)[0])\n",
    "            \n",
    "            #We sort our contours first on basis of boundingRect because Bounding rectangle is the smallest \n",
    "            #horizontal rectangle enclosing the entire contour. So when next we go and select the maximum area rectangle,\n",
    "            #we also get the rectangle which is the smallest horizontal rectangle enclosing the entire contour.\n",
    "            #So in simple words we can say that we select the contour with maximum area which is also the smallest horizontal\n",
    "            #rectangle to enclose the entire contour.\n",
    "            \n",
    "            w=int(28)\n",
    "            h=int(28)\n",
    "            maxi=0\n",
    "            k = 0\n",
    "            for c in cnt:\n",
    "                x,y,w,h=cv2.boundingRect(c)\n",
    "                maxi=max(w*h,maxi)\n",
    "                if maxi==w*h:\n",
    "                    x_max=x\n",
    "                    y_max=y\n",
    "                    w_max=w\n",
    "                    h_max=h\n",
    "            im_crop= thresh[y_max:y_max+h_max+10, x_max:x_max+w_max+10]\n",
    "            #then we crop else part of the image and select only contour part which contains the symbol and then resize and\n",
    "            #reshape so it can be processed furthrt\n",
    "            im_resize = cv2.resize(im_crop,(28,28))\n",
    "            im_resize=np.reshape(im_resize,(784,1))\n",
    "            train_data.append(im_resize)\n",
    "    return train_data"
   ]
  },
  {
   "cell_type": "code",
   "execution_count": 3,
   "metadata": {},
   "outputs": [],
   "source": [
    "data=[]"
   ]
  },
  {
   "cell_type": "code",
   "execution_count": null,
   "metadata": {},
   "outputs": [],
   "source": []
  },
  {
   "cell_type": "code",
   "execution_count": 6,
   "metadata": {},
   "outputs": [
    {
     "name": "stdout",
     "output_type": "stream",
     "text": [
      "4000\n"
     ]
    }
   ],
   "source": [
    "#assign '-'=10\n",
    "data=load_images_from_folder('C:\\Shubh\\Study MAterial\\ml\\datasets\\handwritten equation solver\\extracted_images\\-')\n",
    "\n",
    "for i in range(0,len(data)):\n",
    "    data[i]=np.append(data[i],['10'])\n",
    "\n",
    "print(len(data))\n"
   ]
  },
  {
   "cell_type": "code",
   "execution_count": 7,
   "metadata": {},
   "outputs": [
    {
     "name": "stdout",
     "output_type": "stream",
     "text": [
      "8000\n",
      "(8000, 785)\n"
     ]
    }
   ],
   "source": [
    "#assign + = 11\n",
    "data11=load_images_from_folder('C:\\Shubh\\Study MAterial\\ml\\datasets\\handwritten equation solver\\extracted_images\\+')\n",
    "\n",
    "for i in range(0,len(data11)):\n",
    "    data11[i]=np.append(data11[i],['11'])\n",
    "data=np.concatenate((data,data11))\n",
    "print(len(data))\n",
    "print(np.shape(data))"
   ]
  },
  {
   "cell_type": "code",
   "execution_count": 8,
   "metadata": {},
   "outputs": [
    {
     "name": "stdout",
     "output_type": "stream",
     "text": [
      "12000\n"
     ]
    }
   ],
   "source": [
    "data0=load_images_from_folder('C:\\Shubh\\Study MAterial\\ml\\datasets\\handwritten equation solver\\extracted_images/0')\n",
    "for i in range(0,len(data0)):\n",
    "    data0[i]=np.append(data0[i],['0'])\n",
    "data=np.concatenate((data,data0))\n",
    "print(len(data))"
   ]
  },
  {
   "cell_type": "code",
   "execution_count": 9,
   "metadata": {},
   "outputs": [
    {
     "name": "stdout",
     "output_type": "stream",
     "text": [
      "16000\n"
     ]
    }
   ],
   "source": [
    "data1=load_images_from_folder('C:\\Shubh\\Study MAterial\\ml\\datasets\\handwritten equation solver\\extracted_images/1')\n",
    "\n",
    "for i in range(0,len(data1)):\n",
    "    data1[i]=np.append(data1[i],['1'])\n",
    "data=np.concatenate((data,data1))\n",
    "print(len(data))"
   ]
  },
  {
   "cell_type": "code",
   "execution_count": 10,
   "metadata": {},
   "outputs": [
    {
     "name": "stdout",
     "output_type": "stream",
     "text": [
      "20000\n"
     ]
    }
   ],
   "source": [
    "data2=load_images_from_folder('C:\\Shubh\\Study MAterial\\ml\\datasets\\handwritten equation solver\\extracted_images/2')\n",
    "\n",
    "for i in range(0,len(data2)):\n",
    "    data2[i]=np.append(data2[i],['2'])\n",
    "data=np.concatenate((data,data2))\n",
    "print(len(data))"
   ]
  },
  {
   "cell_type": "code",
   "execution_count": 11,
   "metadata": {},
   "outputs": [
    {
     "name": "stdout",
     "output_type": "stream",
     "text": [
      "24000\n"
     ]
    }
   ],
   "source": [
    "data3=load_images_from_folder('C:\\Shubh\\Study MAterial\\ml\\datasets\\handwritten equation solver\\extracted_images/3')\n",
    "\n",
    "for i in range(0,len(data3)):\n",
    "    data3[i]=np.append(data3[i],['3'])\n",
    "data=np.concatenate((data,data3))\n",
    "print(len(data))"
   ]
  },
  {
   "cell_type": "code",
   "execution_count": 12,
   "metadata": {},
   "outputs": [
    {
     "name": "stdout",
     "output_type": "stream",
     "text": [
      "28000\n"
     ]
    }
   ],
   "source": [
    "data4=load_images_from_folder('C:\\Shubh\\Study MAterial\\ml\\datasets\\handwritten equation solver\\extracted_images/4')\n",
    "\n",
    "for i in range(0,len(data4)):\n",
    "    data4[i]=np.append(data4[i],['4'])\n",
    "data=np.concatenate((data,data4))\n",
    "print(len(data))"
   ]
  },
  {
   "cell_type": "code",
   "execution_count": 13,
   "metadata": {},
   "outputs": [
    {
     "name": "stdout",
     "output_type": "stream",
     "text": [
      "31545\n"
     ]
    }
   ],
   "source": [
    "data5=load_images_from_folder('C:\\Shubh\\Study MAterial\\ml\\datasets\\handwritten equation solver\\extracted_images/5')\n",
    "\n",
    "for i in range(0,len(data5)):\n",
    "    data5[i]=np.append(data5[i],['5'])\n",
    "data=np.concatenate((data,data5))\n",
    "print(len(data))"
   ]
  },
  {
   "cell_type": "code",
   "execution_count": 14,
   "metadata": {},
   "outputs": [
    {
     "name": "stdout",
     "output_type": "stream",
     "text": [
      "34663\n"
     ]
    }
   ],
   "source": [
    "data6=load_images_from_folder('C:\\Shubh\\Study MAterial\\ml\\datasets\\handwritten equation solver\\extracted_images/6')\n",
    "\n",
    "for i in range(0,len(data6)):\n",
    "    data6[i]=np.append(data6[i],['6'])\n",
    "data=np.concatenate((data,data6))\n",
    "print(len(data))"
   ]
  },
  {
   "cell_type": "code",
   "execution_count": 15,
   "metadata": {},
   "outputs": [
    {
     "name": "stdout",
     "output_type": "stream",
     "text": [
      "37572\n"
     ]
    }
   ],
   "source": [
    "data7=load_images_from_folder('C:\\Shubh\\Study MAterial\\ml\\datasets\\handwritten equation solver\\extracted_images/7')\n",
    "\n",
    "for i in range(0,len(data7)):\n",
    "    data7[i]=np.append(data7[i],['7'])\n",
    "data=np.concatenate((data,data7))\n",
    "print(len(data))"
   ]
  },
  {
   "cell_type": "code",
   "execution_count": 16,
   "metadata": {},
   "outputs": [
    {
     "name": "stdout",
     "output_type": "stream",
     "text": [
      "40640\n"
     ]
    }
   ],
   "source": [
    "data8=load_images_from_folder('C:\\Shubh\\Study MAterial\\ml\\datasets\\handwritten equation solver\\extracted_images/8')\n",
    "\n",
    "for i in range(0,len(data8)):\n",
    "    data8[i]=np.append(data8[i],['8'])\n",
    "data=np.concatenate((data,data8))\n",
    "print(len(data))"
   ]
  },
  {
   "cell_type": "code",
   "execution_count": 17,
   "metadata": {},
   "outputs": [
    {
     "name": "stdout",
     "output_type": "stream",
     "text": [
      "44377\n"
     ]
    }
   ],
   "source": [
    "data9=load_images_from_folder('C:\\Shubh\\Study MAterial\\ml\\datasets\\handwritten equation solver\\extracted_images/9')\n",
    "\n",
    "for i in range(0,len(data9)):\n",
    "    data9[i]=np.append(data9[i],['9'])\n",
    "data=np.concatenate((data,data9))\n",
    "print(len(data))"
   ]
  },
  {
   "cell_type": "code",
   "execution_count": 18,
   "metadata": {},
   "outputs": [
    {
     "name": "stdout",
     "output_type": "stream",
     "text": [
      "47628\n"
     ]
    }
   ],
   "source": [
    "#assign * = 12\n",
    "data12=load_images_from_folder('C:\\Shubh\\Study MAterial\\ml\\datasets\\handwritten equation solver\\extracted_images/times')\n",
    "\n",
    "for i in range(0,len(data12)):\n",
    "    data12[i]=np.append(data12[i],['12'])\n",
    "data=np.concatenate((data,data12))\n",
    "print(len(data))"
   ]
  },
  {
   "cell_type": "code",
   "execution_count": 79,
   "metadata": {},
   "outputs": [
    {
     "name": "stdout",
     "output_type": "stream",
     "text": [
      "48496\n"
     ]
    }
   ],
   "source": [
    "#assign / = 13\n",
    "data13=load_images_from_folder('C:\\Shubh\\Study MAterial\\ml\\datasets\\handwritten equation solver\\extracted_images/div')\n",
    "\n",
    "for i in range(0,len(data13)):\n",
    "    data13[i]=np.append(data13[i],['13'])\n",
    "data=np.concatenate((data,data13))\n",
    "print(len(data))"
   ]
  },
  {
   "cell_type": "code",
   "execution_count": null,
   "metadata": {},
   "outputs": [],
   "source": []
  },
  {
   "cell_type": "code",
   "execution_count": 89,
   "metadata": {},
   "outputs": [],
   "source": [
    "dff=pd.DataFrame(data,index=None)\n",
    "dff.to_csv('train_final.csv',index=False)"
   ]
  },
  {
   "cell_type": "markdown",
   "metadata": {},
   "source": [
    "# Training model"
   ]
  },
  {
   "cell_type": "code",
   "execution_count": 90,
   "metadata": {},
   "outputs": [],
   "source": [
    "df=pd.read_csv('train_final.csv',index_col=False)\n",
    "df = df.sample(frac = 1)"
   ]
  },
  {
   "cell_type": "code",
   "execution_count": 91,
   "metadata": {},
   "outputs": [],
   "source": [
    "labels=df[['784']]"
   ]
  },
  {
   "cell_type": "code",
   "execution_count": 92,
   "metadata": {},
   "outputs": [
    {
     "data": {
      "text/html": [
       "<div>\n",
       "<style scoped>\n",
       "    .dataframe tbody tr th:only-of-type {\n",
       "        vertical-align: middle;\n",
       "    }\n",
       "\n",
       "    .dataframe tbody tr th {\n",
       "        vertical-align: top;\n",
       "    }\n",
       "\n",
       "    .dataframe thead th {\n",
       "        text-align: right;\n",
       "    }\n",
       "</style>\n",
       "<table border=\"1\" class=\"dataframe\">\n",
       "  <thead>\n",
       "    <tr style=\"text-align: right;\">\n",
       "      <th></th>\n",
       "      <th>0</th>\n",
       "      <th>1</th>\n",
       "      <th>2</th>\n",
       "      <th>3</th>\n",
       "      <th>4</th>\n",
       "      <th>5</th>\n",
       "      <th>6</th>\n",
       "      <th>7</th>\n",
       "      <th>8</th>\n",
       "      <th>9</th>\n",
       "      <th>...</th>\n",
       "      <th>774</th>\n",
       "      <th>775</th>\n",
       "      <th>776</th>\n",
       "      <th>777</th>\n",
       "      <th>778</th>\n",
       "      <th>779</th>\n",
       "      <th>780</th>\n",
       "      <th>781</th>\n",
       "      <th>782</th>\n",
       "      <th>783</th>\n",
       "    </tr>\n",
       "  </thead>\n",
       "  <tbody>\n",
       "    <tr>\n",
       "      <th>37244</th>\n",
       "      <td>178</td>\n",
       "      <td>178</td>\n",
       "      <td>178</td>\n",
       "      <td>178</td>\n",
       "      <td>178</td>\n",
       "      <td>178</td>\n",
       "      <td>178</td>\n",
       "      <td>178</td>\n",
       "      <td>178</td>\n",
       "      <td>178</td>\n",
       "      <td>...</td>\n",
       "      <td>0</td>\n",
       "      <td>0</td>\n",
       "      <td>0</td>\n",
       "      <td>0</td>\n",
       "      <td>0</td>\n",
       "      <td>0</td>\n",
       "      <td>0</td>\n",
       "      <td>0</td>\n",
       "      <td>0</td>\n",
       "      <td>0</td>\n",
       "    </tr>\n",
       "    <tr>\n",
       "      <th>33227</th>\n",
       "      <td>0</td>\n",
       "      <td>0</td>\n",
       "      <td>0</td>\n",
       "      <td>0</td>\n",
       "      <td>0</td>\n",
       "      <td>0</td>\n",
       "      <td>0</td>\n",
       "      <td>0</td>\n",
       "      <td>0</td>\n",
       "      <td>0</td>\n",
       "      <td>...</td>\n",
       "      <td>0</td>\n",
       "      <td>0</td>\n",
       "      <td>0</td>\n",
       "      <td>0</td>\n",
       "      <td>0</td>\n",
       "      <td>0</td>\n",
       "      <td>0</td>\n",
       "      <td>0</td>\n",
       "      <td>0</td>\n",
       "      <td>0</td>\n",
       "    </tr>\n",
       "    <tr>\n",
       "      <th>33764</th>\n",
       "      <td>0</td>\n",
       "      <td>0</td>\n",
       "      <td>0</td>\n",
       "      <td>0</td>\n",
       "      <td>0</td>\n",
       "      <td>0</td>\n",
       "      <td>0</td>\n",
       "      <td>0</td>\n",
       "      <td>0</td>\n",
       "      <td>0</td>\n",
       "      <td>...</td>\n",
       "      <td>0</td>\n",
       "      <td>0</td>\n",
       "      <td>0</td>\n",
       "      <td>0</td>\n",
       "      <td>0</td>\n",
       "      <td>0</td>\n",
       "      <td>0</td>\n",
       "      <td>0</td>\n",
       "      <td>0</td>\n",
       "      <td>0</td>\n",
       "    </tr>\n",
       "    <tr>\n",
       "      <th>41128</th>\n",
       "      <td>0</td>\n",
       "      <td>0</td>\n",
       "      <td>0</td>\n",
       "      <td>0</td>\n",
       "      <td>0</td>\n",
       "      <td>0</td>\n",
       "      <td>0</td>\n",
       "      <td>0</td>\n",
       "      <td>33</td>\n",
       "      <td>149</td>\n",
       "      <td>...</td>\n",
       "      <td>0</td>\n",
       "      <td>0</td>\n",
       "      <td>0</td>\n",
       "      <td>0</td>\n",
       "      <td>0</td>\n",
       "      <td>0</td>\n",
       "      <td>0</td>\n",
       "      <td>0</td>\n",
       "      <td>0</td>\n",
       "      <td>0</td>\n",
       "    </tr>\n",
       "    <tr>\n",
       "      <th>47583</th>\n",
       "      <td>209</td>\n",
       "      <td>0</td>\n",
       "      <td>0</td>\n",
       "      <td>0</td>\n",
       "      <td>0</td>\n",
       "      <td>0</td>\n",
       "      <td>0</td>\n",
       "      <td>0</td>\n",
       "      <td>0</td>\n",
       "      <td>0</td>\n",
       "      <td>...</td>\n",
       "      <td>0</td>\n",
       "      <td>0</td>\n",
       "      <td>0</td>\n",
       "      <td>173</td>\n",
       "      <td>171</td>\n",
       "      <td>0</td>\n",
       "      <td>0</td>\n",
       "      <td>0</td>\n",
       "      <td>0</td>\n",
       "      <td>0</td>\n",
       "    </tr>\n",
       "  </tbody>\n",
       "</table>\n",
       "<p>5 rows × 784 columns</p>\n",
       "</div>"
      ],
      "text/plain": [
       "         0    1    2    3    4    5    6    7    8    9  ...  774  775  776  \\\n",
       "37244  178  178  178  178  178  178  178  178  178  178  ...    0    0    0   \n",
       "33227    0    0    0    0    0    0    0    0    0    0  ...    0    0    0   \n",
       "33764    0    0    0    0    0    0    0    0    0    0  ...    0    0    0   \n",
       "41128    0    0    0    0    0    0    0    0   33  149  ...    0    0    0   \n",
       "47583  209    0    0    0    0    0    0    0    0    0  ...    0    0    0   \n",
       "\n",
       "       777  778  779  780  781  782  783  \n",
       "37244    0    0    0    0    0    0    0  \n",
       "33227    0    0    0    0    0    0    0  \n",
       "33764    0    0    0    0    0    0    0  \n",
       "41128    0    0    0    0    0    0    0  \n",
       "47583  173  171    0    0    0    0    0  \n",
       "\n",
       "[5 rows x 784 columns]"
      ]
     },
     "execution_count": 92,
     "metadata": {},
     "output_type": "execute_result"
    }
   ],
   "source": [
    "df.drop(df.columns[[784]],axis=1,inplace=True)\n",
    "df.head()"
   ]
  },
  {
   "cell_type": "code",
   "execution_count": 93,
   "metadata": {},
   "outputs": [],
   "source": [
    "X = np.array(df).reshape(len(data),28,28,1)\n",
    "X = X.astype('float64')"
   ]
  },
  {
   "cell_type": "code",
   "execution_count": 94,
   "metadata": {},
   "outputs": [],
   "source": [
    "X_train, X_test, y_train, y_test = train_test_split(X, np.array(labels), random_state=42,test_size = 0.2)"
   ]
  },
  {
   "cell_type": "code",
   "execution_count": 95,
   "metadata": {},
   "outputs": [
    {
     "name": "stdout",
     "output_type": "stream",
     "text": [
      "(38796, 14)\n"
     ]
    }
   ],
   "source": [
    "from tensorflow.keras.utils import to_categorical\n",
    "Y_train=to_categorical(y_train,num_classes=14)\n",
    "print(Y_train.shape)"
   ]
  },
  {
   "cell_type": "code",
   "execution_count": 116,
   "metadata": {},
   "outputs": [],
   "source": [
    "model=keras.Sequential()\n",
    "model.add(keras.layers.Conv2D(32,3,strides=1,padding='same',activation='relu'))\n",
    "model.add(keras.layers.Conv2D(32,3,strides=1,padding='same',activation='relu'))\n",
    "model.add(keras.layers.MaxPool2D())\n",
    "model.add(keras.layers.BatchNormalization())\n",
    "model.add(keras.layers.Dropout(0.2))\n",
    "model.add(keras.layers.Conv2D(64,3,strides=1,padding='same',activation='relu'))\n",
    "model.add(keras.layers.Conv2D(64,3,strides=1,padding='same',activation='relu'))\n",
    "model.add(keras.layers.MaxPool2D())\n",
    "model.add(keras.layers.Dropout(0.2))\n",
    "model.add(keras.layers.BatchNormalization())\n",
    "model.add(keras.layers.Conv2D(128,3,strides=1,padding='same',activation='relu'))\n",
    "model.add(keras.layers.Conv2D(128,3,strides=1,padding='same',activation='relu'))\n",
    "model.add(keras.layers.MaxPool2D())\n",
    "model.add(keras.layers.Flatten())\n",
    "model.add(keras.layers.Dropout(0.4))\n",
    "model.add(keras.layers.Dense(128,activation='relu'))\n",
    "model.add(keras.layers.Dense(14, activation='softmax'))"
   ]
  },
  {
   "cell_type": "code",
   "execution_count": 117,
   "metadata": {},
   "outputs": [],
   "source": [
    "model.compile(loss='categorical_crossentropy', optimizer='adam', metrics=['accuracy'])"
   ]
  },
  {
   "cell_type": "code",
   "execution_count": 118,
   "metadata": {
    "scrolled": true
   },
   "outputs": [
    {
     "name": "stdout",
     "output_type": "stream",
     "text": [
      "Epoch 1/30\n",
      "304/304 [==============================] - 7s 21ms/step - loss: 0.3530 - accuracy: 0.8937 0s - loss: 0\n",
      "Epoch 2/30\n",
      "304/304 [==============================] - 7s 21ms/step - loss: 0.1022 - accuracy: 0.9681\n",
      "Epoch 3/30\n",
      "304/304 [==============================] - 7s 22ms/step - loss: 0.0722 - accuracy: 0.9785\n",
      "Epoch 4/30\n",
      "304/304 [==============================] - 7s 22ms/step - loss: 0.0555 - accuracy: 0.9830\n",
      "Epoch 5/30\n",
      "304/304 [==============================] - 7s 22ms/step - loss: 0.0504 - accuracy: 0.9849\n",
      "Epoch 6/30\n",
      "304/304 [==============================] - 7s 22ms/step - loss: 0.0428 - accuracy: 0.9867\n",
      "Epoch 7/30\n",
      "304/304 [==============================] - 7s 22ms/step - loss: 0.0386 - accuracy: 0.9887\n",
      "Epoch 8/30\n",
      "304/304 [==============================] - 7s 22ms/step - loss: 0.0371 - accuracy: 0.9884\n",
      "Epoch 9/30\n",
      "304/304 [==============================] - 7s 22ms/step - loss: 0.0347 - accuracy: 0.9895\n",
      "Epoch 10/30\n",
      "304/304 [==============================] - 7s 22ms/step - loss: 0.0246 - accuracy: 0.9927\n",
      "Epoch 11/30\n",
      "304/304 [==============================] - 7s 22ms/step - loss: 0.0291 - accuracy: 0.9908\n",
      "Epoch 12/30\n",
      "304/304 [==============================] - 7s 22ms/step - loss: 0.0250 - accuracy: 0.9924\n",
      "Epoch 13/30\n",
      "304/304 [==============================] - 7s 22ms/step - loss: 0.0242 - accuracy: 0.9922\n",
      "Epoch 14/30\n",
      "304/304 [==============================] - 7s 22ms/step - loss: 0.0221 - accuracy: 0.9931\n",
      "Epoch 15/30\n",
      "304/304 [==============================] - 7s 22ms/step - loss: 0.0240 - accuracy: 0.9927\n",
      "Epoch 16/30\n",
      "304/304 [==============================] - 7s 22ms/step - loss: 0.0224 - accuracy: 0.9928\n",
      "Epoch 17/30\n",
      "304/304 [==============================] - 7s 22ms/step - loss: 0.0196 - accuracy: 0.9936\n",
      "Epoch 18/30\n",
      "304/304 [==============================] - 7s 22ms/step - loss: 0.0166 - accuracy: 0.9944\n",
      "Epoch 19/30\n",
      "304/304 [==============================] - 7s 22ms/step - loss: 0.0194 - accuracy: 0.9940\n",
      "Epoch 20/30\n",
      "304/304 [==============================] - 7s 23ms/step - loss: 0.0170 - accuracy: 0.9947\n",
      "Epoch 21/30\n",
      "304/304 [==============================] - 7s 22ms/step - loss: 0.0160 - accuracy: 0.9951\n",
      "Epoch 22/30\n",
      "304/304 [==============================] - 7s 22ms/step - loss: 0.0142 - accuracy: 0.9956\n",
      "Epoch 23/30\n",
      "304/304 [==============================] - 7s 23ms/step - loss: 0.0138 - accuracy: 0.9960\n",
      "Epoch 24/30\n",
      "304/304 [==============================] - 7s 23ms/step - loss: 0.0128 - accuracy: 0.9960\n",
      "Epoch 25/30\n",
      "304/304 [==============================] - 7s 23ms/step - loss: 0.0166 - accuracy: 0.9950\n",
      "Epoch 26/30\n",
      "304/304 [==============================] - 7s 22ms/step - loss: 0.0138 - accuracy: 0.9959\n",
      "Epoch 27/30\n",
      "304/304 [==============================] - 7s 22ms/step - loss: 0.0160 - accuracy: 0.9950\n",
      "Epoch 28/30\n",
      "304/304 [==============================] - 7s 22ms/step - loss: 0.0143 - accuracy: 0.9959\n",
      "Epoch 29/30\n",
      "304/304 [==============================] - 7s 22ms/step - loss: 0.0103 - accuracy: 0.9969\n",
      "Epoch 30/30\n",
      "304/304 [==============================] - 7s 22ms/step - loss: 0.0115 - accuracy: 0.9965\n"
     ]
    },
    {
     "data": {
      "text/plain": [
       "<tensorflow.python.keras.callbacks.History at 0x214ae1e4d00>"
      ]
     },
     "execution_count": 118,
     "metadata": {},
     "output_type": "execute_result"
    }
   ],
   "source": [
    "model.fit(X_train, Y_train, epochs=30,batch_size=128)"
   ]
  },
  {
   "cell_type": "code",
   "execution_count": 119,
   "metadata": {},
   "outputs": [
    {
     "name": "stdout",
     "output_type": "stream",
     "text": [
      "Test accuracy is 99.57731958762886\n",
      "Train accuracy is 99.92525002577585\n"
     ]
    }
   ],
   "source": [
    "pred=model.predict(X_test)\n",
    "acc=[]\n",
    "for i in pred:\n",
    "    k=list(i)\n",
    "    acc.append(k.index(max(k)))\n",
    "testaccuracy=accuracy_score(acc,y_test)\n",
    "pred = model.predict(X_train)\n",
    "acc=[]\n",
    "for i in pred:\n",
    "    k=list(i)\n",
    "    acc.append(k.index(max(k)))\n",
    "trainaccuracy = accuracy_score(acc,y_train)\n",
    "print(\"Test accuracy is\",testaccuracy*100)\n",
    "print(\"Train accuracy is\",trainaccuracy*100)"
   ]
  },
  {
   "cell_type": "markdown",
   "metadata": {},
   "source": [
    "# Testing model"
   ]
  },
  {
   "cell_type": "code",
   "execution_count": 143,
   "metadata": {
    "scrolled": true
   },
   "outputs": [
    {
     "data": {
      "image/png": "[encoded data removed]",
      "text/plain": [
       "<Figure size 432x288 with 1 Axes>"
      ]
     },
     "metadata": {
      "needs_background": "light"
     },
     "output_type": "display_data"
    },
    {
     "data": {
      "image/png": "[encoded data removed]",
      "text/plain": [
       "<Figure size 432x288 with 1 Axes>"
      ]
     },
     "metadata": {
      "needs_background": "light"
     },
     "output_type": "display_data"
    },
    {
     "data": {
      "image/png": "[encoded data removed]",
      "text/plain": [
       "<Figure size 432x288 with 1 Axes>"
      ]
     },
     "metadata": {
      "needs_background": "light"
     },
     "output_type": "display_data"
    },
    {
     "data": {
      "image/png": "[encoded data removed]",
      "text/plain": [
       "<Figure size 432x288 with 1 Axes>"
      ]
     },
     "metadata": {
      "needs_background": "light"
     },
     "output_type": "display_data"
    },
    {
     "data": {
      "image/png": "[encoded data removed]",
      "text/plain": [
       "<Figure size 432x288 with 1 Axes>"
      ]
     },
     "metadata": {
      "needs_background": "light"
     },
     "output_type": "display_data"
    },
    {
     "data": {
      "image/png": "[encoded data removed]",
      "text/plain": [
       "<Figure size 432x288 with 1 Axes>"
      ]
     },
     "metadata": {
      "needs_background": "light"
     },
     "output_type": "display_data"
    },
    {
     "data": {
      "image/png": "[encoded data removed]",
      "text/plain": [
       "<Figure size 432x288 with 1 Axes>"
      ]
     },
     "metadata": {
      "needs_background": "light"
     },
     "output_type": "display_data"
    },
    {
     "data": {
      "image/png": "[encoded data removed]",
      "text/plain": [
       "<Figure size 432x288 with 1 Axes>"
      ]
     },
     "metadata": {
      "needs_background": "light"
     },
     "output_type": "display_data"
    }
   ],
   "source": [
    "img = cv2.imread('C:\\Shubh\\Study MAterial\\ml\\datasets\\handwritten equation solver/test4.png',cv2.IMREAD_GRAYSCALE)\n",
    "plt.imshow(img,'gray')\n",
    "plt.show()\n",
    "if img is not None:\n",
    "    img=~img\n",
    "    ret,thresh=cv2.threshold(img,150,255,cv2.THRESH_BINARY)\n",
    "    ctrs,ret=cv2.findContours(thresh,cv2.RETR_EXTERNAL,cv2.CHAIN_APPROX_NONE)\n",
    "    cnt=sorted(ctrs, key=lambda ctr: cv2.boundingRect(ctr)[0])\n",
    "    w=int(28)\n",
    "    h=int(28)\n",
    "    train_data=[]\n",
    "    rects=[]\n",
    "    \n",
    "    #Now we store all bounding rectangles in rects array\n",
    "    for c in cnt :\n",
    "        x,y,w,h= cv2.boundingRect(c)\n",
    "        rect=[x,y,w,h]\n",
    "        rects.append(rect)\n",
    "\n",
    "    #Sometimes, we may get two or more contours for the same digit/symbol. To avoid that, we can check if the\n",
    "    #bounding rectangle of those two contours overlaps or not. If they overlap, then discard the smaller rectangle.\n",
    "    \n",
    "    #bool_rect stores which two rectangles overlaps. It is a n*n array where n is number of rectangles. First subarray stores\n",
    "    #details about the rectangles on which first one overlaps. So if first subarray is like [0,1,0,0,0] then it shows that \n",
    "    #there are 5 rectangles and first rectangle oerlaps with second one.\n",
    "    \n",
    "    bool_rect=[]\n",
    "    for r in rects:\n",
    "        l=[]\n",
    "        for rec in rects:\n",
    "            flag=0\n",
    "            if rec!=r:\n",
    "                if r[0]<(rec[0]+rec[2]+10) and rec[0]<(r[0]+r[2]+10) and r[1]<(rec[1]+rec[3]+10) and rec[1]<(r[1]+r[3]+10):\n",
    "                    flag=1\n",
    "                l.append(flag)\n",
    "            if rec==r:\n",
    "                l.append(0)\n",
    "        bool_rect.append(l)\n",
    "    \n",
    "#dump_rect stores the rectangle which we have to remove from our rectangles and then fnal_rect stores the resulting rectangles.\n",
    "    dump_rect=[]\n",
    "    for i in range(0,len(cnt)):\n",
    "        for j in range(0,len(cnt)):\n",
    "            if bool_rect[i][j]==1:\n",
    "                area1=rects[i][2]*rects[i][3]\n",
    "                area2=rects[j][2]*rects[j][3]\n",
    "                if(area1==min(area1,area2)):\n",
    "                    dump_rect.append(rects[i])\n",
    "\n",
    "    final_rect=[i for i in rects if i not in dump_rect]\n",
    "\n",
    "    for r in final_rect:\n",
    "        x=r[0]\n",
    "        y=r[1]\n",
    "        w=r[2]\n",
    "        h=r[3]\n",
    "        im_crop =thresh[y:y+h+10,x:x+w+10]\n",
    "        \n",
    "        im_resize = cv2.resize(im_crop,(28,28))\n",
    "        plt.imshow(im_resize,'gray')\n",
    "        plt.show()\n",
    "        im_resize=np.reshape(im_resize,(28,28,1))\n",
    "        train_data.append(im_resize)"
   ]
  },
  {
   "cell_type": "code",
   "execution_count": 144,
   "metadata": {},
   "outputs": [
    {
     "name": "stdout",
     "output_type": "stream",
     "text": [
      "(7, 28, 28, 1)\n"
     ]
    }
   ],
   "source": [
    "train_data = np.array(train_data)\n",
    "print(train_data.shape)"
   ]
  },
  {
   "cell_type": "code",
   "execution_count": 145,
   "metadata": {},
   "outputs": [
    {
     "data": {
      "text/plain": [
       "[8, 12, 2, 13, 13, 13, 6]"
      ]
     },
     "execution_count": 145,
     "metadata": {},
     "output_type": "execute_result"
    }
   ],
   "source": [
    "pred = model.predict(train_data)\n",
    "acc=[]\n",
    "for i in pred:\n",
    "    k=list(i)\n",
    "    acc.append(k.index(max(k)))\n",
    "acc"
   ]
  },
  {
   "cell_type": "code",
   "execution_count": 146,
   "metadata": {},
   "outputs": [
    {
     "name": "stdout",
     "output_type": "stream",
     "text": [
      "8*2///6\n"
     ]
    }
   ],
   "source": [
    "s=''\n",
    "for result in acc:\n",
    "    if(result==10):\n",
    "        s=s+'-'\n",
    "    if(result==11):\n",
    "        s=s+'+'\n",
    "    if(result==12):\n",
    "        s=s+'*'\n",
    "    if result == 13:\n",
    "        s=s+'/'\n",
    "    if(result==0):\n",
    "        s=s+'0'\n",
    "    if(result==1):\n",
    "        s=s+'1'\n",
    "    if(result==2):\n",
    "        s=s+'2'\n",
    "    if(result==3):\n",
    "        s=s+'3'\n",
    "    if(result==4):\n",
    "        s=s+'4'\n",
    "    if(result==5):\n",
    "        s=s+'5'\n",
    "    if(result==6):\n",
    "        s=s+'6'\n",
    "    if(result==7):\n",
    "        s=s+'7'\n",
    "    if(result==8):\n",
    "        s=s+'8'\n",
    "    if(result==9):\n",
    "        s=s+'9'\n",
    "    \n",
    "print(s)"
   ]
  },
  {
   "cell_type": "code",
   "execution_count": 142,
   "metadata": {},
   "outputs": [
    {
     "data": {
      "text/plain": [
       "1720"
      ]
     },
     "execution_count": 142,
     "metadata": {},
     "output_type": "execute_result"
    }
   ],
   "source": [
    "eval(s)"
   ]
  },
  {
   "cell_type": "code",
   "execution_count": 97,
   "metadata": {},
   "outputs": [
    {
     "data": {
      "text/plain": [
       "2.0"
      ]
     },
     "execution_count": 97,
     "metadata": {},
     "output_type": "execute_result"
    }
   ],
   "source": [
    "eval('8/4')"
   ]
  },
  {
   "cell_type": "code",
   "execution_count": null,
   "metadata": {},
   "outputs": [],
   "source": []
  }
 ],
 "metadata": {
  "kernelspec": {
   "display_name": "Python 3",
   "language": "python",
   "name": "python3"
  },
  "language_info": {
   "codemirror_mode": {
    "name": "ipython",
    "version": 3
   },
   "file_extension": ".py",
   "mimetype": "text/x-python",
   "name": "python",
   "nbconvert_exporter": "python",
   "pygments_lexer": "ipython3",
   "version": "3.8.5"
  }
 },
 "nbformat": 4,
 "nbformat_minor": 4
}
