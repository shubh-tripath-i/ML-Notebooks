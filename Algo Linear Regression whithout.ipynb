{
 "cells": [
  {
   "cell_type": "code",
   "execution_count": 1,
   "metadata": {},
   "outputs": [],
   "source": [
    "import numpy as np\n",
    "import pandas as pd\n",
    "import matplotlib.pyplot as plt\n",
    "from sklearn.datasets import load_boston\n",
    "from sklearn.model_selection import train_test_split\n",
    "from sklearn.metrics import mean_squared_error\n",
    "from sklearn.preprocessing import MinMaxScaler\n",
    "import seaborn as sns\n",
    "from sklearn.metrics import r2_score\n",
    "import math\n",
    "import random\n",
    "from scipy.stats import pearsonr\n",
    "from statistics import mean\n",
    "import timeit\n",
    "from scipy.stats import probplot\n",
    "sns.set()"
   ]
  },
  {
   "cell_type": "code",
   "execution_count": 2,
   "metadata": {},
   "outputs": [
    {
     "name": "stderr",
     "output_type": "stream",
     "text": [
      "C:\\Users\\Bhagwan\\anaconda3\\lib\\site-packages\\sklearn\\utils\\deprecation.py:87: FutureWarning: Function load_boston is deprecated; `load_boston` is deprecated in 1.0 and will be removed in 1.2.\n",
      "\n",
      "    The Boston housing prices dataset has an ethical problem. You can refer to\n",
      "    the documentation of this function for further details.\n",
      "\n",
      "    The scikit-learn maintainers therefore strongly discourage the use of this\n",
      "    dataset unless the purpose of the code is to study and educate about\n",
      "    ethical issues in data science and machine learning.\n",
      "\n",
      "    In this special case, you can fetch the dataset from the original\n",
      "    source::\n",
      "\n",
      "        import pandas as pd\n",
      "        import numpy as np\n",
      "\n",
      "\n",
      "        data_url = \"http://lib.stat.cmu.edu/datasets/boston\"\n",
      "        raw_df = pd.read_csv(data_url, sep=\"\\s+\", skiprows=22, header=None)\n",
      "        data = np.hstack([raw_df.values[::2, :], raw_df.values[1::2, :2]])\n",
      "        target = raw_df.values[1::2, 2]\n",
      "\n",
      "    Alternative datasets include the California housing dataset (i.e.\n",
      "    :func:`~sklearn.datasets.fetch_california_housing`) and the Ames housing\n",
      "    dataset. You can load the datasets as follows::\n",
      "\n",
      "        from sklearn.datasets import fetch_california_housing\n",
      "        housing = fetch_california_housing()\n",
      "\n",
      "    for the California housing dataset and::\n",
      "\n",
      "        from sklearn.datasets import fetch_openml\n",
      "        housing = fetch_openml(name=\"house_prices\", as_frame=True)\n",
      "\n",
      "    for the Ames housing dataset.\n",
      "    \n",
      "  warnings.warn(msg, category=FutureWarning)\n"
     ]
    }
   ],
   "source": [
    "data=load_boston()"
   ]
  },
  {
   "cell_type": "code",
   "execution_count": 3,
   "metadata": {},
   "outputs": [
    {
     "data": {
      "text/plain": [
       "['ZN', 'INDUS', 'CHAS', 'AGE', 'RAD', 'TAX', 'B']"
      ]
     },
     "execution_count": 3,
     "metadata": {},
     "output_type": "execute_result"
    }
   ],
   "source": [
    "features=pd.DataFrame(data.data,columns=data.feature_names)\n",
    "target=pd.DataFrame(data.target,columns=['Target'])\n",
    "features=features.drop(['TAX','PTRATIO','LSTAT','RAD','NOX','INDUS','AGE'],axis=1)\n",
    "['ZN', 'INDUS', 'CHAS', 'AGE', 'RAD', 'TAX', 'B']\n",
    "#features=features.drop(['CRIM', 'ZN', 'CHAS', 'DIS', 'B'],axis=1)\n",
    "#features=features.drop(['RM'],axis=1)\n",
    "#'CRIM', 'ZN', 'CHAS', 'RM', 'DIS', 'B'"
   ]
  },
  {
   "cell_type": "code",
   "execution_count": 4,
   "metadata": {},
   "outputs": [
    {
     "data": {
      "text/html": [
       "<div>\n",
       "<style scoped>\n",
       "    .dataframe tbody tr th:only-of-type {\n",
       "        vertical-align: middle;\n",
       "    }\n",
       "\n",
       "    .dataframe tbody tr th {\n",
       "        vertical-align: top;\n",
       "    }\n",
       "\n",
       "    .dataframe thead th {\n",
       "        text-align: right;\n",
       "    }\n",
       "</style>\n",
       "<table border=\"1\" class=\"dataframe\">\n",
       "  <thead>\n",
       "    <tr style=\"text-align: right;\">\n",
       "      <th></th>\n",
       "      <th>CRIM</th>\n",
       "      <th>ZN</th>\n",
       "      <th>CHAS</th>\n",
       "      <th>RM</th>\n",
       "      <th>DIS</th>\n",
       "      <th>B</th>\n",
       "    </tr>\n",
       "  </thead>\n",
       "  <tbody>\n",
       "    <tr>\n",
       "      <th>0</th>\n",
       "      <td>0.00632</td>\n",
       "      <td>18.0</td>\n",
       "      <td>0.0</td>\n",
       "      <td>6.575</td>\n",
       "      <td>4.0900</td>\n",
       "      <td>396.90</td>\n",
       "    </tr>\n",
       "    <tr>\n",
       "      <th>1</th>\n",
       "      <td>0.02731</td>\n",
       "      <td>0.0</td>\n",
       "      <td>0.0</td>\n",
       "      <td>6.421</td>\n",
       "      <td>4.9671</td>\n",
       "      <td>396.90</td>\n",
       "    </tr>\n",
       "    <tr>\n",
       "      <th>2</th>\n",
       "      <td>0.02729</td>\n",
       "      <td>0.0</td>\n",
       "      <td>0.0</td>\n",
       "      <td>7.185</td>\n",
       "      <td>4.9671</td>\n",
       "      <td>392.83</td>\n",
       "    </tr>\n",
       "    <tr>\n",
       "      <th>3</th>\n",
       "      <td>0.03237</td>\n",
       "      <td>0.0</td>\n",
       "      <td>0.0</td>\n",
       "      <td>6.998</td>\n",
       "      <td>6.0622</td>\n",
       "      <td>394.63</td>\n",
       "    </tr>\n",
       "    <tr>\n",
       "      <th>4</th>\n",
       "      <td>0.06905</td>\n",
       "      <td>0.0</td>\n",
       "      <td>0.0</td>\n",
       "      <td>7.147</td>\n",
       "      <td>6.0622</td>\n",
       "      <td>396.90</td>\n",
       "    </tr>\n",
       "    <tr>\n",
       "      <th>...</th>\n",
       "      <td>...</td>\n",
       "      <td>...</td>\n",
       "      <td>...</td>\n",
       "      <td>...</td>\n",
       "      <td>...</td>\n",
       "      <td>...</td>\n",
       "    </tr>\n",
       "    <tr>\n",
       "      <th>501</th>\n",
       "      <td>0.06263</td>\n",
       "      <td>0.0</td>\n",
       "      <td>0.0</td>\n",
       "      <td>6.593</td>\n",
       "      <td>2.4786</td>\n",
       "      <td>391.99</td>\n",
       "    </tr>\n",
       "    <tr>\n",
       "      <th>502</th>\n",
       "      <td>0.04527</td>\n",
       "      <td>0.0</td>\n",
       "      <td>0.0</td>\n",
       "      <td>6.120</td>\n",
       "      <td>2.2875</td>\n",
       "      <td>396.90</td>\n",
       "    </tr>\n",
       "    <tr>\n",
       "      <th>503</th>\n",
       "      <td>0.06076</td>\n",
       "      <td>0.0</td>\n",
       "      <td>0.0</td>\n",
       "      <td>6.976</td>\n",
       "      <td>2.1675</td>\n",
       "      <td>396.90</td>\n",
       "    </tr>\n",
       "    <tr>\n",
       "      <th>504</th>\n",
       "      <td>0.10959</td>\n",
       "      <td>0.0</td>\n",
       "      <td>0.0</td>\n",
       "      <td>6.794</td>\n",
       "      <td>2.3889</td>\n",
       "      <td>393.45</td>\n",
       "    </tr>\n",
       "    <tr>\n",
       "      <th>505</th>\n",
       "      <td>0.04741</td>\n",
       "      <td>0.0</td>\n",
       "      <td>0.0</td>\n",
       "      <td>6.030</td>\n",
       "      <td>2.5050</td>\n",
       "      <td>396.90</td>\n",
       "    </tr>\n",
       "  </tbody>\n",
       "</table>\n",
       "<p>506 rows × 6 columns</p>\n",
       "</div>"
      ],
      "text/plain": [
       "        CRIM    ZN  CHAS     RM     DIS       B\n",
       "0    0.00632  18.0   0.0  6.575  4.0900  396.90\n",
       "1    0.02731   0.0   0.0  6.421  4.9671  396.90\n",
       "2    0.02729   0.0   0.0  7.185  4.9671  392.83\n",
       "3    0.03237   0.0   0.0  6.998  6.0622  394.63\n",
       "4    0.06905   0.0   0.0  7.147  6.0622  396.90\n",
       "..       ...   ...   ...    ...     ...     ...\n",
       "501  0.06263   0.0   0.0  6.593  2.4786  391.99\n",
       "502  0.04527   0.0   0.0  6.120  2.2875  396.90\n",
       "503  0.06076   0.0   0.0  6.976  2.1675  396.90\n",
       "504  0.10959   0.0   0.0  6.794  2.3889  393.45\n",
       "505  0.04741   0.0   0.0  6.030  2.5050  396.90\n",
       "\n",
       "[506 rows x 6 columns]"
      ]
     },
     "execution_count": 4,
     "metadata": {},
     "output_type": "execute_result"
    }
   ],
   "source": [
    "features"
   ]
  },
  {
   "cell_type": "code",
   "execution_count": 5,
   "metadata": {
    "scrolled": false
   },
   "outputs": [
    {
     "ename": "ModuleNotFoundError",
     "evalue": "No module named 'sklearn.metrics.classification'",
     "output_type": "error",
     "traceback": [
      "\u001b[1;31m---------------------------------------------------------------------------\u001b[0m",
      "\u001b[1;31mModuleNotFoundError\u001b[0m                       Traceback (most recent call last)",
      "\u001b[1;32m~\\AppData\\Local\\Temp\\ipykernel_4992\\2860534067.py\u001b[0m in \u001b[0;36m<module>\u001b[1;34m\u001b[0m\n\u001b[1;32m----> 1\u001b[1;33m \u001b[1;32mfrom\u001b[0m \u001b[0myellowbrick\u001b[0m\u001b[1;33m.\u001b[0m\u001b[0mfeatures\u001b[0m \u001b[1;32mimport\u001b[0m \u001b[0mjoint_plot\u001b[0m\u001b[1;33m\u001b[0m\u001b[1;33m\u001b[0m\u001b[0m\n\u001b[0m\u001b[0;32m      2\u001b[0m \u001b[0mvisualizer\u001b[0m \u001b[1;33m=\u001b[0m \u001b[0mjoint_plot\u001b[0m\u001b[1;33m(\u001b[0m\u001b[0mfeatures\u001b[0m\u001b[1;33m,\u001b[0m \u001b[0mpd\u001b[0m\u001b[1;33m.\u001b[0m\u001b[0mSeries\u001b[0m\u001b[1;33m(\u001b[0m\u001b[0mdata\u001b[0m\u001b[1;33m.\u001b[0m\u001b[0mtarget\u001b[0m\u001b[1;33m)\u001b[0m\u001b[1;33m,\u001b[0m \u001b[0mcolumns\u001b[0m\u001b[1;33m=\u001b[0m\u001b[1;34m'RM'\u001b[0m\u001b[1;33m)\u001b[0m\u001b[1;33m\u001b[0m\u001b[1;33m\u001b[0m\u001b[0m\n",
      "\u001b[1;32m~\\anaconda3\\lib\\site-packages\\yellowbrick\\__init__.py\u001b[0m in \u001b[0;36m<module>\u001b[1;34m\u001b[0m\n\u001b[0;32m     37\u001b[0m \u001b[1;32mfrom\u001b[0m \u001b[1;33m.\u001b[0m\u001b[0manscombe\u001b[0m \u001b[1;32mimport\u001b[0m \u001b[0manscombe\u001b[0m\u001b[1;33m\u001b[0m\u001b[1;33m\u001b[0m\u001b[0m\n\u001b[0;32m     38\u001b[0m \u001b[1;32mfrom\u001b[0m \u001b[1;33m.\u001b[0m\u001b[0mdatasaurus\u001b[0m \u001b[1;32mimport\u001b[0m \u001b[0mdatasaurus\u001b[0m\u001b[1;33m\u001b[0m\u001b[1;33m\u001b[0m\u001b[0m\n\u001b[1;32m---> 39\u001b[1;33m \u001b[1;32mfrom\u001b[0m \u001b[1;33m.\u001b[0m\u001b[0mclassifier\u001b[0m \u001b[1;32mimport\u001b[0m \u001b[0mROCAUC\u001b[0m\u001b[1;33m,\u001b[0m \u001b[0mClassBalance\u001b[0m\u001b[1;33m,\u001b[0m \u001b[0mClassificationScoreVisualizer\u001b[0m\u001b[1;33m\u001b[0m\u001b[1;33m\u001b[0m\u001b[0m\n\u001b[0m\u001b[0;32m     40\u001b[0m \u001b[1;33m\u001b[0m\u001b[0m\n\u001b[0;32m     41\u001b[0m \u001b[1;31m# from .classifier import crplot, rocplot\u001b[0m\u001b[1;33m\u001b[0m\u001b[1;33m\u001b[0m\u001b[1;33m\u001b[0m\u001b[0m\n",
      "\u001b[1;32m~\\anaconda3\\lib\\site-packages\\yellowbrick\\classifier\\__init__.py\u001b[0m in \u001b[0;36m<module>\u001b[1;34m\u001b[0m\n\u001b[0;32m     24\u001b[0m \u001b[1;32mfrom\u001b[0m \u001b[1;33m.\u001b[0m\u001b[1;33m.\u001b[0m\u001b[0mbase\u001b[0m \u001b[1;32mimport\u001b[0m \u001b[0mScoreVisualizer\u001b[0m\u001b[1;33m\u001b[0m\u001b[1;33m\u001b[0m\u001b[0m\n\u001b[0;32m     25\u001b[0m \u001b[1;32mfrom\u001b[0m \u001b[1;33m.\u001b[0m\u001b[0mbase\u001b[0m \u001b[1;32mimport\u001b[0m \u001b[0mClassificationScoreVisualizer\u001b[0m\u001b[1;33m\u001b[0m\u001b[1;33m\u001b[0m\u001b[0m\n\u001b[1;32m---> 26\u001b[1;33m \u001b[1;32mfrom\u001b[0m \u001b[1;33m.\u001b[0m\u001b[0mclass_prediction_error\u001b[0m \u001b[1;32mimport\u001b[0m \u001b[0mClassPredictionError\u001b[0m\u001b[1;33m,\u001b[0m \u001b[0mclass_prediction_error\u001b[0m\u001b[1;33m\u001b[0m\u001b[1;33m\u001b[0m\u001b[0m\n\u001b[0m\u001b[0;32m     27\u001b[0m \u001b[1;32mfrom\u001b[0m \u001b[1;33m.\u001b[0m\u001b[0mclassification_report\u001b[0m \u001b[1;32mimport\u001b[0m \u001b[0mClassificationReport\u001b[0m\u001b[1;33m,\u001b[0m \u001b[0mclassification_report\u001b[0m\u001b[1;33m\u001b[0m\u001b[1;33m\u001b[0m\u001b[0m\n\u001b[0;32m     28\u001b[0m \u001b[1;32mfrom\u001b[0m \u001b[1;33m.\u001b[0m\u001b[0mconfusion_matrix\u001b[0m \u001b[1;32mimport\u001b[0m \u001b[0mConfusionMatrix\u001b[0m\u001b[1;33m,\u001b[0m \u001b[0mconfusion_matrix\u001b[0m\u001b[1;33m\u001b[0m\u001b[1;33m\u001b[0m\u001b[0m\n",
      "\u001b[1;32m~\\anaconda3\\lib\\site-packages\\yellowbrick\\classifier\\class_prediction_error.py\u001b[0m in \u001b[0;36m<module>\u001b[1;34m\u001b[0m\n\u001b[0;32m     23\u001b[0m \u001b[1;33m\u001b[0m\u001b[0m\n\u001b[0;32m     24\u001b[0m \u001b[1;32mfrom\u001b[0m \u001b[0msklearn\u001b[0m\u001b[1;33m.\u001b[0m\u001b[0mutils\u001b[0m\u001b[1;33m.\u001b[0m\u001b[0mmulticlass\u001b[0m \u001b[1;32mimport\u001b[0m \u001b[0munique_labels\u001b[0m\u001b[1;33m\u001b[0m\u001b[1;33m\u001b[0m\u001b[0m\n\u001b[1;32m---> 25\u001b[1;33m \u001b[1;32mfrom\u001b[0m \u001b[0msklearn\u001b[0m\u001b[1;33m.\u001b[0m\u001b[0mmetrics\u001b[0m\u001b[1;33m.\u001b[0m\u001b[0mclassification\u001b[0m \u001b[1;32mimport\u001b[0m \u001b[0m_check_targets\u001b[0m\u001b[1;33m\u001b[0m\u001b[1;33m\u001b[0m\u001b[0m\n\u001b[0m\u001b[0;32m     26\u001b[0m \u001b[1;33m\u001b[0m\u001b[0m\n\u001b[0;32m     27\u001b[0m \u001b[1;32mfrom\u001b[0m \u001b[0myellowbrick\u001b[0m\u001b[1;33m.\u001b[0m\u001b[0mdraw\u001b[0m \u001b[1;32mimport\u001b[0m \u001b[0mbar_stack\u001b[0m\u001b[1;33m\u001b[0m\u001b[1;33m\u001b[0m\u001b[0m\n",
      "\u001b[1;31mModuleNotFoundError\u001b[0m: No module named 'sklearn.metrics.classification'"
     ]
    }
   ],
   "source": [
    "from yellowbrick.features import joint_plot\n",
    "visualizer = joint_plot(features, pd.Series(data.target), columns='RM')"
   ]
  },
  {
   "cell_type": "code",
   "execution_count": 6,
   "metadata": {},
   "outputs": [
    {
     "name": "stderr",
     "output_type": "stream",
     "text": [
      "*c* argument looks like a single numeric RGB or RGBA sequence, which should be avoided as value-mapping will have precedence in case its length matches with *x* & *y*.  Please use the *color* keyword-argument or provide a 2D array with a single row if you intend to specify the same RGB or RGBA value for all points.\n"
     ]
    },
    {
     "data": {
      "text/plain": [
       "<AxesSubplot:xlabel='CRIM', ylabel='DIS'>"
      ]
     },
     "execution_count": 6,
     "metadata": {},
     "output_type": "execute_result"
    },
    {
     "data": {
      "image/png": "[encoded data removed]",
      "text/plain": [
       "<Figure size 432x288 with 1 Axes>"
      ]
     },
     "metadata": {},
     "output_type": "display_data"
    }
   ],
   "source": [
    "features.plot(kind=\"scatter\", x=\"CRIM\", y=\"DIS\", alpha=0.1)"
   ]
  },
  {
   "cell_type": "code",
   "execution_count": 7,
   "metadata": {},
   "outputs": [
    {
     "data": {
      "text/html": [
       "<div>\n",
       "<style scoped>\n",
       "    .dataframe tbody tr th:only-of-type {\n",
       "        vertical-align: middle;\n",
       "    }\n",
       "\n",
       "    .dataframe tbody tr th {\n",
       "        vertical-align: top;\n",
       "    }\n",
       "\n",
       "    .dataframe thead th {\n",
       "        text-align: right;\n",
       "    }\n",
       "</style>\n",
       "<table border=\"1\" class=\"dataframe\">\n",
       "  <thead>\n",
       "    <tr style=\"text-align: right;\">\n",
       "      <th></th>\n",
       "      <th>CRIM</th>\n",
       "      <th>ZN</th>\n",
       "      <th>CHAS</th>\n",
       "      <th>RM</th>\n",
       "      <th>DIS</th>\n",
       "      <th>B</th>\n",
       "      <th>Target</th>\n",
       "    </tr>\n",
       "  </thead>\n",
       "  <tbody>\n",
       "    <tr>\n",
       "      <th>CRIM</th>\n",
       "      <td>1.000000</td>\n",
       "      <td>-0.200469</td>\n",
       "      <td>-0.055892</td>\n",
       "      <td>-0.219247</td>\n",
       "      <td>-0.379670</td>\n",
       "      <td>-0.385064</td>\n",
       "      <td>-0.388305</td>\n",
       "    </tr>\n",
       "    <tr>\n",
       "      <th>ZN</th>\n",
       "      <td>-0.200469</td>\n",
       "      <td>1.000000</td>\n",
       "      <td>-0.042697</td>\n",
       "      <td>0.311991</td>\n",
       "      <td>0.664408</td>\n",
       "      <td>0.175520</td>\n",
       "      <td>0.360445</td>\n",
       "    </tr>\n",
       "    <tr>\n",
       "      <th>CHAS</th>\n",
       "      <td>-0.055892</td>\n",
       "      <td>-0.042697</td>\n",
       "      <td>1.000000</td>\n",
       "      <td>0.091251</td>\n",
       "      <td>-0.099176</td>\n",
       "      <td>0.048788</td>\n",
       "      <td>0.175260</td>\n",
       "    </tr>\n",
       "    <tr>\n",
       "      <th>RM</th>\n",
       "      <td>-0.219247</td>\n",
       "      <td>0.311991</td>\n",
       "      <td>0.091251</td>\n",
       "      <td>1.000000</td>\n",
       "      <td>0.205246</td>\n",
       "      <td>0.128069</td>\n",
       "      <td>0.695360</td>\n",
       "    </tr>\n",
       "    <tr>\n",
       "      <th>DIS</th>\n",
       "      <td>-0.379670</td>\n",
       "      <td>0.664408</td>\n",
       "      <td>-0.099176</td>\n",
       "      <td>0.205246</td>\n",
       "      <td>1.000000</td>\n",
       "      <td>0.291512</td>\n",
       "      <td>0.249929</td>\n",
       "    </tr>\n",
       "    <tr>\n",
       "      <th>B</th>\n",
       "      <td>-0.385064</td>\n",
       "      <td>0.175520</td>\n",
       "      <td>0.048788</td>\n",
       "      <td>0.128069</td>\n",
       "      <td>0.291512</td>\n",
       "      <td>1.000000</td>\n",
       "      <td>0.333461</td>\n",
       "    </tr>\n",
       "    <tr>\n",
       "      <th>Target</th>\n",
       "      <td>-0.388305</td>\n",
       "      <td>0.360445</td>\n",
       "      <td>0.175260</td>\n",
       "      <td>0.695360</td>\n",
       "      <td>0.249929</td>\n",
       "      <td>0.333461</td>\n",
       "      <td>1.000000</td>\n",
       "    </tr>\n",
       "  </tbody>\n",
       "</table>\n",
       "</div>"
      ],
      "text/plain": [
       "            CRIM        ZN      CHAS        RM       DIS         B    Target\n",
       "CRIM    1.000000 -0.200469 -0.055892 -0.219247 -0.379670 -0.385064 -0.388305\n",
       "ZN     -0.200469  1.000000 -0.042697  0.311991  0.664408  0.175520  0.360445\n",
       "CHAS   -0.055892 -0.042697  1.000000  0.091251 -0.099176  0.048788  0.175260\n",
       "RM     -0.219247  0.311991  0.091251  1.000000  0.205246  0.128069  0.695360\n",
       "DIS    -0.379670  0.664408 -0.099176  0.205246  1.000000  0.291512  0.249929\n",
       "B      -0.385064  0.175520  0.048788  0.128069  0.291512  1.000000  0.333461\n",
       "Target -0.388305  0.360445  0.175260  0.695360  0.249929  0.333461  1.000000"
      ]
     },
     "execution_count": 7,
     "metadata": {},
     "output_type": "execute_result"
    }
   ],
   "source": [
    "df=pd.concat([features,target],axis=1)\n",
    "corr=df.corr()\n",
    "corr"
   ]
  },
  {
   "cell_type": "code",
   "execution_count": 8,
   "metadata": {
    "scrolled": false
   },
   "outputs": [],
   "source": [
    "corrs=[abs(corr[attr]['Target']) for attr in list(df)]\n",
    "#Zip the corrs array with the features array\n",
    "l=list(zip(corrs,list(features)))\n",
    "#Now sort the above array by their corr. value in ascending order\n",
    "l.sort()\n",
    "#'Unzip' pairs to two lists\n",
    "#zip(*l) - takes a list that takes like[(a,b,c),(d,e,f)]\n",
    "#and returns [(a,d),(b,e),(c,f)]\n",
    "corrs,labels=list(zip((*l)))"
   ]
  },
  {
   "cell_type": "code",
   "execution_count": 9,
   "metadata": {},
   "outputs": [
    {
     "data": {
      "image/png": "[encoded data removed]",
      "text/plain": [
       "<Figure size 1200x400 with 1 Axes>"
      ]
     },
     "metadata": {},
     "output_type": "display_data"
    }
   ],
   "source": [
    "plt.figure(figsize=(15,5),dpi=80,facecolor=\"red\",edgecolor=\"green\",linewidth=18)\n",
    "plt.bar(labels,corrs,width=0.4)\n",
    "plt.xlabel('Attributes')\n",
    "plt.legend([\"cor\"])\n",
    "plt.ylabel('correlation with the target variable')\n",
    "plt.show()"
   ]
  },
  {
   "cell_type": "code",
   "execution_count": null,
   "metadata": {
    "scrolled": false
   },
   "outputs": [],
   "source": [
    "\"\"\"fig,ax=plt.subplots(4,4,figsize=(30,20))\n",
    "ax[0][0].scatter(features.CRIM,target)\n",
    "ax[0][1].scatter(features.ZN,target)\n",
    "ax[0][2].scatter(features.INDUS,target)\n",
    "#ax[0][3].scatter(features.CHAS,target)\n",
    "ax[1][0].scatter(features.NOX,target)\n",
    "ax[1][1].scatter(features.RM,target)\n",
    "ax[1][2].scatter(features.AGE,target)\n",
    "ax[1][3].scatter(features.DIS,target)\n",
    "#ax[2][0].scatter(features.RAD,target)\n",
    "ax[2][1].scatter(features.TAX,target)\n",
    "ax[2][2].scatter(features.PTRATIO,target)\n",
    "ax[2][3].scatter(features.B,target)\n",
    "ax[3][0].scatter(features.LSTAT,target)\"\"\""
   ]
  },
  {
   "cell_type": "code",
   "execution_count": 10,
   "metadata": {},
   "outputs": [],
   "source": [
    "xscaler=MinMaxScaler()\n",
    "X=xscaler.fit_transform(features)\n",
    "yscaler=MinMaxScaler()\n",
    "Y=yscaler.fit_transform(target)"
   ]
  },
  {
   "cell_type": "code",
   "execution_count": 11,
   "metadata": {
    "scrolled": true
   },
   "outputs": [],
   "source": [
    "xtrain,xtest,ytrain,ytest=train_test_split(X,Y,test_size=0.2,random_state=42,shuffle=False)\n",
    "ytrain=ytrain.flatten()\n",
    "ytest=ytest.flatten()"
   ]
  },
  {
   "cell_type": "code",
   "execution_count": null,
   "metadata": {},
   "outputs": [],
   "source": [
    "def summer(x,y,n,mul,m,c):\n",
    "    su=0\n",
    "    if(mul==-1):\n",
    "        for i in range(n):\n",
    "            su+=(-y[i]+m.dot(x[i]+c))\n",
    "    else:    \n",
    "        for i in range(n):\n",
    "            su+=(-y[i]+m.dot(x[i]+c))*x[i][mul]\n",
    "    return su/n    "
   ]
  },
  {
   "cell_type": "code",
   "execution_count": null,
   "metadata": {},
   "outputs": [],
   "source": [
    "def error(m,c,x,y):\n",
    "    n=y.size\n",
    "    su=0\n",
    "    for i in range(n):\n",
    "        su+=(y[i]-m.dot(x[i]+c))**2\n",
    "    return su/(2*n)"
   ]
  },
  {
   "cell_type": "code",
   "execution_count": null,
   "metadata": {},
   "outputs": [],
   "source": [
    "'''def update(learn,x,c,y,m):\n",
    "    upd=c-learn*(summer(x,y,y.size,-1,m,c))\n",
    "    r=np.zeros(len(m))\n",
    "    for i in range(len(m)):\n",
    "        r[i]=m[i]-learn*(summer(x,y,y.size,i,m,c))\n",
    "    #print(r,\"r\")    \n",
    "    m=np.copy(r)\n",
    "    c=upd\n",
    "    return m,c'''"
   ]
  },
  {
   "cell_type": "code",
   "execution_count": null,
   "metadata": {},
   "outputs": [],
   "source": [
    "def update(learn,x,c,y,m,alpha,penalty):\n",
    "    #hypothesis\n",
    "    leny=len(y)\n",
    "    pred=x.dot(m)+c\n",
    "    y=y.flatten()\n",
    "    #print(pred.shape,y.shape)\n",
    "    loss=pred-y\n",
    "    #print(\"loss\",loss)\n",
    "    #print(\"x=\",x)\n",
    "    #print(\"transposw\",x.T)\n",
    "    updc=c-learn*(np.sum(loss)/leny)\n",
    "    if(penalty==\"Lasso\"):\n",
    "        m=m-learn*((x.T.dot(loss)+alpha*np.sign(m))/leny)\n",
    "    elif(penalty==\"Ridge\"):\n",
    "        m=m-learn*((x.T.dot(loss)+alpha*m)/leny)\n",
    "    else:\n",
    "        m=m-learn*((x.T.dot(loss))/leny)\n",
    "    c=updc\n",
    "    return m,c"
   ]
  },
  {
   "cell_type": "code",
   "execution_count": null,
   "metadata": {},
   "outputs": [],
   "source": [
    "def stochastic(m,c,x,y,learn,n_iters):\n",
    "    mc=[]\n",
    "    er=[]\n",
    "    for i in range(n_iters):\n",
    "        #print(m)\n",
    "        predicted=x.dot(m)+c\n",
    "        er.append(mean_squared_error(predicted,y))\n",
    "        ran=random.randint(0, len(y)-1)\n",
    "        xran=x[ran]\n",
    "        yran=y[ran]\n",
    "        pred=xran.dot(m)+c\n",
    "        loss=pred-yran\n",
    "        updc=c-learn*loss\n",
    "        #print(xran,loss)\n",
    "        m=m-learn*(xran*loss)\n",
    "        c=updc\n",
    "    return m,c,mc,er"
   ]
  },
  {
   "cell_type": "code",
   "execution_count": null,
   "metadata": {},
   "outputs": [],
   "source": [
    "def minibatch(m,c,x,y,learn,n_iters,batch):\n",
    "    mc=[]\n",
    "    er=[]\n",
    "    for i in range(n_iters):\n",
    "        pred=x.dot(m)+c\n",
    "        er.append(mean_squared_error(pred,y))\n",
    "        l=random.sample(range(0,len(y)-1),batch)\n",
    "        xbatch=x[l]\n",
    "        ybatch=y[l]\n",
    "        \n",
    "        m,c=update(learn,xbatch,c,ybatch,m)\n",
    "        mc.append(m)\n",
    "    return m,c,mc,er"
   ]
  },
  {
   "cell_type": "code",
   "execution_count": null,
   "metadata": {},
   "outputs": [],
   "source": [
    "def gradient(m,c,x,y,learn,n_iters,alpha,penalty):\n",
    "    mc=[]\n",
    "    er=[]\n",
    "    for i in range(n_iters):\n",
    "        #if(alpha>9998):\n",
    "        #    print(i,m)\n",
    "        pred=x.dot(m)+c\n",
    "        er.append(mean_squared_error(pred,y))\n",
    "        if(i>0):\n",
    "            if(er[i]>=er[i-1]):\n",
    "                break\n",
    "        m,c=update(learn,x,c,y,m,alpha,penalty)\n",
    "        mc.append([m,c])\n",
    "    return mc[-1][0],mc[-1][1],mc,er"
   ]
  },
  {
   "cell_type": "code",
   "execution_count": null,
   "metadata": {},
   "outputs": [],
   "source": []
  },
  {
   "cell_type": "code",
   "execution_count": null,
   "metadata": {
    "scrolled": true
   },
   "outputs": [],
   "source": [
    "n=len(features.columns)\n",
    "init_m=np.zeros(n)\n",
    "init_c=0\n",
    "learn=0.1\n",
    "#iters=[100,200,300,400,500,700,1000,1500,2000,2500,3000,5000,10000,30000,60000,63486,63487,70000,100000]\n",
    "#for iterss in iters:\n",
    "n_iters=2500\n",
    "batch=32\n",
    "\n",
    "alpha=0\n",
    "penalty=\"NO\"\n",
    "erro=[]\n",
    "r2=[]\n",
    "mean_line_err=[]\n",
    "mean_line_r2=[]\n",
    "timecal=[]\n",
    "coef=[]\n",
    "#alpha=alpha*10\n",
    "#print(\"alpha=\",alpha)\n",
    "for j in range(10):\n",
    "    xtrain,xtest,ytrain,ytest=train_test_split(X,Y,test_size=0.2,random_state=j*5)\n",
    "    tic=timeit.default_timer()\n",
    "    m,c,mc,er=gradient(init_m,init_c,xtrain,ytrain,learn,n_iters,alpha,penalty)\n",
    "    #m,c,mc,er=stochastic(init_m,init_c,xtrain,ytrain,learn,n_iters)\n",
    "    #m,c,mc,er=minibatch(init_m,init_c,xtrain,ytrain,learn,n_iters,batch)\n",
    "\n",
    "    coef.append(m)\n",
    "\n",
    "    toc=timeit.default_timer()\n",
    "    timecal.append(toc-tic)\n",
    "    ypred=np.zeros(len(ytest))\n",
    "    ypred=xtest.dot(m)+c\n",
    "    #if(alpha>9998):\n",
    "    #    print(m,c)\n",
    "    #    print(ypred)\n",
    "    r2.append(r2_score(ypred,ytest))\n",
    "    erro.append(mean_squared_error(ypred,ytest))\n",
    "    ytest=ytest.flatten()\n",
    "    k=mean(ytest)\n",
    "    ypredmean=np.array([k]*len(ytest))\n",
    "    mean_line_r2.append(r2_score(ytest,ypredmean))\n",
    "    mean_line_err.append(mean_squared_error(ytest,ypredmean))\n",
    "\n",
    "    #print(\"executing\",j)\n",
    "    pear=pearsonr(ypred,ytest)\n",
    "    err=ypred-ytest\n",
    "    mean_of_residuals=np.mean(err)\n",
    "    #print(\"mean of residuals is \",mean_of_residuals)\n",
    "\n",
    "    #DURBIN_WATSON_TEST for autocorrelation\n",
    "    '''count_numerator=0\n",
    "    count_denominator=err[0]**2\n",
    "    for i in range(1,len(err)):\n",
    "        count_numerator+=(err[i]-err[i-1])**2\n",
    "        count_denominator+=(err[i])**2\n",
    "    durbin_coefficient=count_numerator/count_denominator\n",
    "    print(\"autocorrelation coefficient=\",durbin_coefficient)'''\n",
    "\n",
    "\n",
    "    #reidual vs feature for residual plot\n",
    "    #plt.scatter(err,xtest)\n",
    "    #plt.show()\n",
    "\n",
    "    #residual vs predicted plot for homoscedasticity\n",
    "    '''plt.scatter(ypred,err)\n",
    "    plt.plot([-0.5,1],[0,0])\n",
    "    plt.show()'''\n",
    "\n",
    "    #for checking normaity\n",
    "    #probplot(err,fit=True,plot=plt)\n",
    "    #plt.show()\n",
    "\n",
    "    #distplot for checking normalllity and mean is zero\n",
    "    #sns.distplot(err)\n",
    "    #plt.show()\n",
    "\n",
    "    '''plt.scatter(xtest,err)\n",
    "    plt.plot([1,0],[1,0])\n",
    "    plt.show()\n",
    "    '''\n",
    "    #regression line and mean line plot\n",
    "    '''print(\"r2=\",r2[j])\n",
    "    print(\"meansquared=\",erro[j])\n",
    "    print(\"r2mean=\",mean_line_r2[j])\n",
    "    print('errormean=',mean_line_err[j])\n",
    "    print(\"correlation_coeffiecient and its square=\",pear[0],pear[0]*pear[0])\n",
    "    print(\"manually r sqquare=\",1-(erro[j]/mean_line_err[j]))\n",
    "    print(\"sum of residuals\",np.sum(ypred-ytest))\n",
    "    print()'''\n",
    "    #plt.scatter(xtest,ytest)\n",
    "    #plt.plot(xtest,ypredmean)\n",
    "    #plt.plot(xtest,ypred)\n",
    "    #plt.show()\n",
    "\n",
    "    #plot of error over iterations\n",
    "    #plt.scatter(np.arange(1,n_iters+1,1),er)\n",
    "    #plt.show()\n",
    "\n",
    "#coefficients\n",
    "coef=np.array(coef).T\n",
    "meancoef=[]\n",
    "for i in coef:\n",
    "    meancoef.append(mean(i))\n",
    "print(\"coefficient for\",n_iters,\"is\",meancoef)\n",
    "\n",
    "#errors\n",
    "errmean=mean(erro)\n",
    "r2mean=mean(r2)\n",
    "errmeanline=mean(mean_line_err)\n",
    "r2meanline=mean(mean_line_r2)\n",
    "print(errmean,r2mean,mean(timecal))#,errmeanline,r2meanline"
   ]
  },
  {
   "cell_type": "code",
   "execution_count": null,
   "metadata": {},
   "outputs": [],
   "source": [
    "'''50k=    0.017607268016505518\n",
    "60k=    0.01760726801651795\n",
    "62k=    0.01760726801651803\n",
    "63k=    0.01760726801651805\n",
    "63200=  0.017607268016518053\n",
    "63300=  0.01760726801651806\n",
    "63400=  0.01760726801651806\n",
    "63450=  0.01760726801651806\n",
    "63460=  0.01760726801651806\n",
    "63486=  0.01760726801651806\n",
    "63487=  0.017607268016518064\n",
    "63500=  0.017607268016518064\n",
    "64k=    0.017607268016518064\n",
    "65k=    0.017607268016518064\n",
    "70k=    0.017607268016518064\n",
    "80k=    0.017607268016518064\n",
    "90k=    0.017607268016518064\n",
    "1 lakh= 0.017607268016518064\n",
    "2 lakh= 0.017607268016518064\n",
    "5 lakh= 0.017607268016518064\n",
    "10lakh= 0.017607268016518064\n",
    "50lakh=  0.017607268016518064'''"
   ]
  },
  {
   "cell_type": "code",
   "execution_count": null,
   "metadata": {
    "scrolled": true
   },
   "outputs": [],
   "source": [
    "from sklearn.linear_model import Ridge\n",
    "alpha=0.00000000000000000000001\n",
    "while(alpha<1000000000000000000000000000000000000000000):\n",
    "    print(\"alpha=\",alpha)\n",
    "    alpha=alpha*10\n",
    "    model=Ridge(alpha=alpha,max_iter=2500)\n",
    "    model.fit(xtrain,ytrain)\n",
    "    ypred=model.predict(xtest)\n",
    "    print(model.coef_,model.intercept_)\n",
    "    print(mean_squared_error(ypred,ytest))\n",
    "    print()"
   ]
  },
  {
   "cell_type": "code",
   "execution_count": null,
   "metadata": {},
   "outputs": [],
   "source": [
    "from sklearn.linear_model import LinearRegression\n",
    "from sklearn.linear_model import SGDRegressor\n",
    "model1=SGDRegressor(learning_rate='adaptive',eta0=0.1)\n",
    "model2=LinearRegression()\n",
    "model1.fit(xtrain,ytrain)\n",
    "model2.fit(xtrain,ytrain)\n",
    "pred1=model1.predict(xtest)\n",
    "pred2=model2.predict(xtest)\n",
    "mean_squared_error(pred1,ytest),mean_squared_error(pred2,ytest)"
   ]
  },
  {
   "cell_type": "code",
   "execution_count": null,
   "metadata": {
    "scrolled": true
   },
   "outputs": [],
   "source": [
    "function = lambda x: (x ** 3)-(3 *(x ** 2))+7\n",
    "\n",
    "#Get 1000 evenly spaced numbers between -1 and 3 (arbitratil chosen to ensure steep curve)\n",
    "x = np.linspace(-1,3,500)\n",
    "\n",
    "#Plot the curve\n",
    "plt.plot(x, function(x))"
   ]
  },
  {
   "cell_type": "code",
   "execution_count": null,
   "metadata": {},
   "outputs": [],
   "source": [
    "'''err=mean_squared_error(ypred,ytest)\n",
    "r2_score(ypred,ytest)'''"
   ]
  },
  {
   "cell_type": "code",
   "execution_count": null,
   "metadata": {},
   "outputs": [],
   "source": [
    "ypred=yscaler.inverse_transform(ypred.reshape(-1,1))\n",
    "ypred=ypred.flatten()\n",
    "ytest=yscaler.inverse_transform(ytest.reshape(-1,1))\n",
    "ytest=ytest.flatten()\n",
    "err=mean_squared_error(ypred,ytest)\n",
    "err"
   ]
  },
  {
   "cell_type": "code",
   "execution_count": null,
   "metadata": {},
   "outputs": [],
   "source": [
    "'''k=mean(ytest)\n",
    "k\n",
    "ypredmean=np.array([k]*len(ytest))\n",
    "r2_score(ytest,ypredmean)\n",
    "mean_squared_error(ytest,ypredmean)'''"
   ]
  },
  {
   "cell_type": "code",
   "execution_count": null,
   "metadata": {},
   "outputs": [],
   "source": [
    "plt.scatter(xtest,ytest)\n",
    "#plt.scatter(xtest[:,1:2],ytest)\n",
    "#plt.scatter(xtest[:,2:3],ytest)\n",
    "#plt.scatter(xtest[:,3:4],ytest)\n",
    "#plt.scatter(xtest[:,5:6],ytest)\n",
    "#plt.scatter(xtest[:,4:5],ytest)\n",
    "plt.plot(xtest,ypredmean)\n",
    "plt.plot(xtest,ypred)\n",
    "#plt.plot(xtest[:,2:3],ypred)\n",
    "#plt.plot(xtest[:,3:4],ypred)\n",
    "#plt.plot(xtest[:,5:6],ypred)\n",
    "#plt.plot(xtest[:,4:5],ypred)\n",
    "n_iters,r2mean,errmean,r2meanline,errmeanline"
   ]
  },
  {
   "cell_type": "code",
   "execution_count": null,
   "metadata": {},
   "outputs": [],
   "source": [
    "from sklearn.linear_model import SGDRegressor\n",
    "model=SGDRegressor()\n",
    "model.fit(xtrain,ytrain)\n",
    "ypred=model.predict(xtest)\n",
    "loss=ypred-ytest\n",
    "np.mean(loss)"
   ]
  },
  {
   "cell_type": "code",
   "execution_count": null,
   "metadata": {},
   "outputs": [],
   "source": [
    "from yellowbrick.datasets import load_concrete\n",
    "from yellowbrick.features import JointPlotVisualizer\n",
    "\n",
    "# Load the dataset\n",
    "X, y = load_concrete()\n"
   ]
  },
  {
   "cell_type": "code",
   "execution_count": null,
   "metadata": {},
   "outputs": [],
   "source": [
    "plt.scatter(ypred,err)\n",
    "plt.plot(np.arange(0,45,1),np.array([0]*45),'g-')"
   ]
  },
  {
   "cell_type": "code",
   "execution_count": null,
   "metadata": {},
   "outputs": [],
   "source": [
    "a=[3,4,5]\n",
    "k=np.array([[1,2],[3,4],[5,6],[7,8],[9,10],11,12,13])\n",
    "b=k[a]\n",
    "b"
   ]
  },
  {
   "cell_type": "code",
   "execution_count": null,
   "metadata": {},
   "outputs": [],
   "source": [
    "a=np.array([2,3,4])\n",
    "b=np.array([3])\n",
    "a*b"
   ]
  },
  {
   "cell_type": "code",
   "execution_count": null,
   "metadata": {},
   "outputs": [],
   "source": [
    "a=np.array([[1,2,3,4],[5,6,7,8]])\n",
    "k=a.T\n",
    "m=[]\n",
    "for i in k:\n",
    "    m.append(mean(i))\n",
    "m"
   ]
  },
  {
   "cell_type": "code",
   "execution_count": null,
   "metadata": {},
   "outputs": [],
   "source": [
    "for i in range(10):\n",
    "    print(2.6*i)"
   ]
  },
  {
   "cell_type": "code",
   "execution_count": null,
   "metadata": {},
   "outputs": [],
   "source": [
    "k=[[1,2],[3,4]]\n",
    "k[-1][0]"
   ]
  },
  {
   "cell_type": "code",
   "execution_count": null,
   "metadata": {},
   "outputs": [],
   "source": [
    "m=[1,1,1]\n",
    "k,c=np.unique(m,return_counts=True)\n",
    "k,c"
   ]
  },
  {
   "cell_type": "code",
   "execution_count": null,
   "metadata": {},
   "outputs": [],
   "source": []
  },
  {
   "cell_type": "code",
   "execution_count": null,
   "metadata": {},
   "outputs": [],
   "source": []
  },
  {
   "cell_type": "code",
   "execution_count": null,
   "metadata": {},
   "outputs": [],
   "source": []
  },
  {
   "cell_type": "code",
   "execution_count": null,
   "metadata": {},
   "outputs": [],
   "source": []
  },
  {
   "cell_type": "code",
   "execution_count": null,
   "metadata": {},
   "outputs": [],
   "source": []
  },
  {
   "cell_type": "code",
   "execution_count": null,
   "metadata": {},
   "outputs": [],
   "source": []
  },
  {
   "cell_type": "code",
   "execution_count": null,
   "metadata": {},
   "outputs": [],
   "source": []
  },
  {
   "cell_type": "code",
   "execution_count": null,
   "metadata": {},
   "outputs": [],
   "source": []
  },
  {
   "cell_type": "code",
   "execution_count": null,
   "metadata": {},
   "outputs": [],
   "source": []
  },
  {
   "cell_type": "code",
   "execution_count": null,
   "metadata": {},
   "outputs": [],
   "source": []
  },
  {
   "cell_type": "code",
   "execution_count": null,
   "metadata": {},
   "outputs": [],
   "source": []
  },
  {
   "cell_type": "code",
   "execution_count": null,
   "metadata": {},
   "outputs": [],
   "source": []
  },
  {
   "cell_type": "code",
   "execution_count": null,
   "metadata": {},
   "outputs": [],
   "source": []
  },
  {
   "cell_type": "code",
   "execution_count": null,
   "metadata": {},
   "outputs": [],
   "source": []
  }
 ],
 "metadata": {
  "kernelspec": {
   "display_name": "Python 3 (ipykernel)",
   "language": "python",
   "name": "python3"
  },
  "language_info": {
   "codemirror_mode": {
    "name": "ipython",
    "version": 3
   },
   "file_extension": ".py",
   "mimetype": "text/x-python",
   "name": "python",
   "nbconvert_exporter": "python",
   "pygments_lexer": "ipython3",
   "version": "3.7.7"
  }
 },
 "nbformat": 4,
 "nbformat_minor": 4
}
