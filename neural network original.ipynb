{
 "cells": [
  {
   "cell_type": "code",
   "execution_count": 1,
   "metadata": {},
   "outputs": [],
   "source": [
    "import numpy as np\n",
    "import pandas as pd\n",
    "import matplotlib.pyplot as plt\n",
    "from sklearn.model_selection import train_test_split\n",
    "from sklearn.metrics import accuracy_score\n",
    "import math\n",
    "from sklearn.preprocessing import MinMaxScaler\n",
    "import random\n",
    "import time"
   ]
  },
  {
   "cell_type": "code",
   "execution_count": 2,
   "metadata": {},
   "outputs": [],
   "source": [
    "training_data=pd.read_csv('C:\\Shubh\\Study MAterial\\ml\\datasets\\mnist\\mnist_train.csv')\n",
    "testing_data=pd.read_csv('C:\\Shubh\\Study MAterial\\ml\\datasets\\mnist\\mnist_test.csv')"
   ]
  },
  {
   "cell_type": "code",
   "execution_count": 3,
   "metadata": {},
   "outputs": [],
   "source": [
    "ytest=np.array(testing_data['label'])\n",
    "Xtest=np.array(testing_data.drop(['label'],axis=1))"
   ]
  },
  {
   "cell_type": "code",
   "execution_count": 4,
   "metadata": {},
   "outputs": [],
   "source": [
    "#activations for testing\n",
    "def relu(z):\n",
    "    a= np.maximum(z, 0)\n",
    "    return a\n",
    "\n",
    "def tanh(z):\n",
    "    return np.tanh(z)\n",
    "\n",
    "def sigmoid(z):\n",
    "    a= (1/(1+np.exp(-z)))\n",
    "    return a\n",
    "\n",
    "def softmax(x):\n",
    "    z= np.exp(x) / np.sum(np.exp(x), axis=0)\n",
    "    return z"
   ]
  },
  {
   "cell_type": "code",
   "execution_count": 5,
   "metadata": {},
   "outputs": [],
   "source": [
    "def relu_prime(z):\n",
    "    a=(z>0)*1\n",
    "    return a\n",
    "\n",
    "def sigmoid_prime(z):\n",
    "    return sigmoid(z) * (1-sigmoid(z))\n",
    "\n",
    "def tanh_prime(z):\n",
    "    return 1 - np.power(tanh(z), 2)\n",
    "\n",
    "#we calculate softmax prime directly as when we use cross entropy as loss function then softmax derivative is equal to y_pred-y"
   ]
  },
  {
   "cell_type": "code",
   "execution_count": 6,
   "metadata": {},
   "outputs": [],
   "source": [
    "y=np.array(training_data['label'])                        #y=training labels\n",
    "Xdata=np.array(training_data.drop(['label'],axis=1))      #Xdata=training features                  \n",
    "yorig=y                                                   #yorig=y(so it stores original y as we will do one hot encoding on y\n",
    "                                                          # So we need it to test accuracy on training data)"
   ]
  },
  {
   "cell_type": "code",
   "execution_count": 7,
   "metadata": {},
   "outputs": [
    {
     "name": "stdout",
     "output_type": "stream",
     "text": [
      "train_label shape=(10, 60000)\n"
     ]
    }
   ],
   "source": [
    "#doing one hot encoding\n",
    "#train label=contains one hot encoded target variables\n",
    "train_label=np.zeros((10,60000))\n",
    "for col in range (60000):\n",
    "    val=y[col]\n",
    "    for row in range (10):\n",
    "        if (val==row):\n",
    "            train_label[val,col]=1\n",
    "print(\"train_label shape=\"+str(np.shape(train_label)))\n",
    "y=train_label\n",
    "\n",
    "#scaling training and testing features by same scale\n",
    "scaler=MinMaxScaler()\n",
    "X=scaler.fit_transform(Xdata)\n",
    "Xtest=scaler.fit_transform(Xtest)"
   ]
  },
  {
   "cell_type": "code",
   "execution_count": 8,
   "metadata": {},
   "outputs": [
    {
     "data": {
      "image/png": "[encoded data removed]",
      "text/plain": [
       "<Figure size 432x288 with 1 Axes>"
      ]
     },
     "metadata": {
      "needs_background": "light"
     },
     "output_type": "display_data"
    },
    {
     "data": {
      "text/plain": [
       "<matplotlib.image.AxesImage at 0x1a416eb9d90>"
      ]
     },
     "execution_count": 8,
     "metadata": {},
     "output_type": "execute_result"
    },
    {
     "data": {
      "image/png": "[encoded data removed]",
      "text/plain": [
       "<Figure size 432x288 with 1 Axes>"
      ]
     },
     "metadata": {
      "needs_background": "light"
     },
     "output_type": "display_data"
    }
   ],
   "source": [
    "plt.imshow(X[10].reshape((28,28)))\n",
    "plt.show()\n",
    "plt.imshow(X[30].reshape((28,28)))"
   ]
  },
  {
   "cell_type": "code",
   "execution_count": 9,
   "metadata": {},
   "outputs": [],
   "source": [
    "def forward_propogation(xtrain,n_layers,parameters,activation,keep_probb):\n",
    "    cache=[]\n",
    "    a_prev=xtrain.T\n",
    "    for l in range(1,n_layers):\n",
    "        #dropout\n",
    "        D1 = np.random.rand(a_prev.shape[0], a_prev.shape[1])                               # Step 1: initialize matrix D1 = np.random.rand(..., ...)\n",
    "        D1 = D1 < keep_prob                                         # Step 2: convert entries of D1 to 0 or 1 (using keep_prob as the threshold)\n",
    "        a_prev = np.multiply(a_prev, D1)                                         # Step 3: shut down some neurons of A1\n",
    "        a_prev = a_prev/keep_prob  \n",
    "        \n",
    "        z=np.dot(parameters[\"w\"+str(l)],a_prev)+parameters[\"b\"+str(l)]\n",
    "        cache.append([parameters[\"w\"+str(l)],parameters[\"b\"+str(l)],a_prev,z,D1])\n",
    "        a_prev=relu(z)\n",
    "        \n",
    "    z=np.dot(parameters[\"w\"+str(n_layers)],a_prev)+parameters[\"b\"+str(n_layers)]\n",
    "    cache.append([parameters[\"w\"+str(n_layers)],parameters[\"b\"+str(n_layers)],a_prev,z])\n",
    "    \n",
    "    if(activation==\"softmax\"):\n",
    "        a_prev=softmax(z)\n",
    "    elif(activation==\"tanh\"):\n",
    "        a_prev=tanh(z)\n",
    "        a_prev=(a_prev+1)/2\n",
    "    else:\n",
    "        a_prev=sigmoid(z)\n",
    "    \n",
    "    return cache,a_prev                  #returning cache and predicted values"
   ]
  },
  {
   "cell_type": "code",
   "execution_count": 10,
   "metadata": {},
   "outputs": [],
   "source": [
    "def backward_propogation(Y,cache,AL,n_layers,lambd,m,activation,keep_prob):\n",
    "    grads={}\n",
    "    w,b,a,z=cache[n_layers-1]                \n",
    "    m = a.shape[1]\n",
    "    \n",
    "    if(activation==\"softmax\"):\n",
    "        dZ = AL-Y             \n",
    "    elif(activation==\"tanh\"):\n",
    "        #dAL = AL-Y       #quadratic loss function\n",
    "        dAL = - (np.divide(Y, AL) - np.divide(1 - Y, 1 - AL))\n",
    "        dZ=np.multiply(dAL,tanh_prime(z))\n",
    "    else:\n",
    "        dAL = - (np.divide(Y, AL) - np.divide(1 - Y, 1 - AL))\n",
    "        dZ=np.multiply(dAL,sigmoid_prime(z))\n",
    "        \n",
    "    #print(dZ)\n",
    "    db = (1/m)*np.sum(dZ,axis=1,keepdims=True)\n",
    "    dW = (1/m)*(np.dot(dZ,a.T))\n",
    "    dA=np.dot(w.T,dZ)\n",
    "    dW+=w*(lambd/m)\n",
    "    db+=b*(lambd/m)\n",
    "    grads[\"dw\" + str(n_layers)], grads[\"db\" + str(n_layers)]=dW,db\n",
    "    \n",
    "    for i in range(n_layers-1,0,-1):\n",
    "        w,b,a,z,drop=cache[i-1]\n",
    "        m = a.shape[1]\n",
    "        \n",
    "        dZ=np.multiply(dA,relu_prime(z))\n",
    "        db = (1/m)*np.sum(dZ,axis=1,keepdims=True)\n",
    "        dW = (1/m)*(np.dot(dZ,a.T))\n",
    "        dA=np.dot(w.T,dZ)\n",
    "       \n",
    "        #applying dropout\n",
    "        \n",
    "        dA=np.multiply(dA,drop)\n",
    "        if(i==1):\n",
    "            keep_prob=1\n",
    "        dA=dA/keep_prob\n",
    "        \n",
    "        #regularization\n",
    "        dW+=w*(lambd/m)\n",
    "        db+=b*(lambd/m)\n",
    "        grads[\"dw\" + str(i)], grads[\"db\" + str(i)]=dW,db\n",
    "        \n",
    "    return grads"
   ]
  },
  {
   "cell_type": "code",
   "execution_count": 11,
   "metadata": {},
   "outputs": [],
   "source": [
    "def initialize_parameters(n_layers,model_name,parameters):\n",
    "    terms={}\n",
    "    if(model_name=='sgdm'):  #sgd with momentum\n",
    "        for l in range(1,n_layers+1):\n",
    "            terms[\"vdw\" + str(l)] = np.zeros(parameters[\"w\" + str(l)].shape)\n",
    "            terms[\"vdb\" + str(l)] = np.zeros(parameters[\"b\" + str(l)].shape)\n",
    "        \n",
    "    elif(model_name=='rmsprop'):\n",
    "        for l in range(1,n_layers+1):\n",
    "            terms[\"sdw\" + str(l)] = np.zeros(parameters[\"w\" + str(l)].shape)\n",
    "            terms[\"sdb\" + str(l)] = np.zeros(parameters[\"b\" + str(l)].shape)\n",
    "    \n",
    "    elif(model_name=='adam'):\n",
    "        for l in range(1,n_layers+1):\n",
    "            terms[\"vdw\" + str(l)] = np.zeros(parameters[\"w\" + str(l)].shape)\n",
    "            terms[\"vdb\" + str(l)] = np.zeros(parameters[\"b\" + str(l)].shape)\n",
    "            terms[\"sdw\" + str(l)] = np.zeros(parameters[\"w\" + str(l)].shape)\n",
    "            terms[\"sdb\" + str(l)] = np.zeros(parameters[\"b\" + str(l)].shape)\n",
    "\n",
    "    return terms"
   ]
  },
  {
   "cell_type": "code",
   "execution_count": 12,
   "metadata": {},
   "outputs": [],
   "source": [
    "def update_parameters(parameters,grads,learning_rate,n_layers,model_name,par,terms):\n",
    "    epsilon=1e-8\n",
    "    if(model_name=='sgdm'):  #sgd with momentum\n",
    "        #initializing parameters\n",
    "        beta=par['beta']\n",
    "        for l in range(1,n_layers+1):\n",
    "            \n",
    "            terms['vdw'+str(l)]=beta*terms['vdw'+str(l)]+(1-beta)*grads[\"dw\"+str(l)]\n",
    "            terms['vdb'+str(l)]=beta*terms['vdb'+str(l)]+(1-beta)*grads[\"db\"+str(l)]\n",
    "            parameters[\"w\"+str(l)]-=learning_rate*terms['vdw'+str(l)]\n",
    "            parameters[\"b\"+str(l)]-=learning_rate*terms['vdb'+str(l)]\n",
    "        \n",
    "            \n",
    "    elif(model_name=='rmsprop'):\n",
    "        beta=par['beta']\n",
    "        for l in range(1,n_layers+1):\n",
    "            terms['sdw'+str(l)]=beta*terms['sdw'+str(l)]+(1-beta)*np.square(grads[\"dw\"+str(l)])\n",
    "            terms['sdb'+str(l)]=beta*terms['sdb'+str(l)]+(1-beta)*np.square(grads[\"db\"+str(l)])\n",
    "            parameters[\"w\"+str(l)]-=(learning_rate*(grads[\"dw\"+str(l)]/(np.sqrt(terms['sdw'+str(l)])+epsilon)))\n",
    "            parameters[\"b\"+str(l)]-=(learning_rate*(grads[\"db\"+str(l)]/(np.sqrt(terms['sdb'+str(l)])+epsilon)))\n",
    "            \n",
    "            \n",
    "    elif(model_name=='adam'):\n",
    "        betav,betas=par['betav'],par['betas']\n",
    "        for l in range(1,n_layers+1):\n",
    "            terms['vdw'+str(l)]=betav*terms['vdw'+str(l)]+(1-betav)*grads[\"dw\"+str(l)]\n",
    "            terms['vdb'+str(l)]=betav*terms['vdb'+str(l)]+(1-betav)*grads[\"db\"+str(l)]\n",
    "            terms['sdw'+str(l)]=betas*terms['sdw'+str(l)]+(1-betas)*np.square(grads[\"dw\"+str(l)])\n",
    "            terms['sdb'+str(l)]=betas*terms['sdb'+str(l)]+(1-betas)*np.square(grads[\"db\"+str(l)])\n",
    "\n",
    "            parameters[\"w\"+str(l)]-=learning_rate*(terms['vdw'+str(l)]/(np.sqrt(terms['sdw'+str(l)])+epsilon))\n",
    "            parameters[\"b\"+str(l)]-=learning_rate*(terms['vdb'+str(l)]/(np.sqrt(terms['sdb'+str(l)])+epsilon))\n",
    "            \n",
    "    else:    \n",
    "        for l in range(1,n_layers+1):\n",
    "            parameters[\"w\"+str(l)]-=learning_rate*grads[\"dw\"+str(l)]\n",
    "            parameters[\"b\"+str(l)]-=learning_rate*grads[\"db\"+str(l)]\n",
    "            \n",
    "    return parameters,terms"
   ]
  },
  {
   "cell_type": "code",
   "execution_count": 13,
   "metadata": {},
   "outputs": [],
   "source": [
    "def prediction(x,parameters,activation):\n",
    "    a_prev=x.T\n",
    "    for l in range(1,n_layers):\n",
    "        z=np.dot(parameters[\"w\"+str(l)],a_prev)+parameters[\"b\"+str(l)]\n",
    "        a_prev=relu(z)\n",
    "        plt.imshow(a_prev.T[10])\n",
    "        plt.show()\n",
    "        plt.imshow(a_prev.T[130])\n",
    "        plt.show()\n",
    "    \n",
    "    z=np.dot(parameters[\"w\"+str(n_layers)],a_prev)+parameters[\"b\"+str(n_layers)]\n",
    "    if(activation==\"softmax\"):\n",
    "        a_prev=softmax(z)\n",
    "    elif(activation==\"tanh\"):\n",
    "        a_prev=tanh(z)\n",
    "    else:\n",
    "        a_prev=sigmoid(z)\n",
    "    \n",
    "    a_prev=a_prev.T\n",
    "    acc=[]\n",
    "    for i in a_prev:\n",
    "        k=list(i)\n",
    "        acc.append(k.index(max(k)))\n",
    "    return acc"
   ]
  },
  {
   "cell_type": "code",
   "execution_count": 14,
   "metadata": {},
   "outputs": [],
   "source": [
    "def model(x,y,yorig,Xtest,ytest,model_name,n_layers,neurons_array,epochs,learning_rate,activation,mini_batch_size,lambd,keep_prob,par):\n",
    "    parameters={}\n",
    "    prev=x.shape[1]\n",
    "    costarr=[]\n",
    "    trainaccuracy=[]\n",
    "    testaccuracy=[]\n",
    "    timer=[]\n",
    "    #initializing weights\n",
    "    for l in range(n_layers):\n",
    "        parameters['w'+str(l+1)]=np.random.randn(neurons_array[l],prev)*np.sqrt(2/prev)\n",
    "        parameters['b'+str(l+1)]=np.zeros((neurons_array[l],1))\n",
    "        prev=neurons_array[l]\n",
    "        print(parameters['w'+str(l+1)].shape,parameters['b'+str(l+1)].shape)\n",
    "    len(param)\n",
    "    progress=0     #for seeing how much percent of model has been trained\n",
    "    \n",
    "    #initializing terms accoriding to model\n",
    "    terms=initialize_parameters(n_layers,model_name,parameters)\n",
    "    #terms will contain variables only for sgdm,rmsprop and adam\n",
    "    \n",
    "    time1=time.time()\n",
    "    \n",
    "    for j in range(epochs):\n",
    "        print(\"executing\",j)       \n",
    "        \n",
    "        ind=np.arange(0,60000)\n",
    "        np.random.shuffle(ind)\n",
    "\n",
    "        i=0\n",
    "        \n",
    "        \n",
    "        while(i<x.shape[0]):\n",
    "            print(((progress/x.shape[0])*100)/epochs,\"%progress done\")\n",
    "            \n",
    "            xtrain=x[ind[i:i+mini_batch_size]]\n",
    "            ytrain=y.T[ind[i:i+mini_batch_size]].T\n",
    "            yorignew=yorig[ind[i:i+mini_batch_size]]\n",
    "            i+=mini_batch_size\n",
    "            progress+=mini_batch_size\n",
    "            \n",
    "            \n",
    "            cache,AL=forward_propogation(xtrain,n_layers,parameters,activation,keep_prob)\n",
    "            #calculating cost\n",
    "            m=ytrain.shape[1]\n",
    "            \n",
    "            if(activation==\"softmax\"):\n",
    "                cost = (-1 / m) * np.sum(np.multiply(ytrain, np.log(AL)))\n",
    "            elif(activation==\"tanh\"):\n",
    "                cost=(1/m)*np.sum(np.square(AL-ytrain))\n",
    "            else:\n",
    "                cost = (-1 /m ) * np.sum(np.multiply(ytrain, np.log(AL)) + np.multiply(1 - ytrain, np.log(1 - AL)))\n",
    "            regcost=0\n",
    "            for l in range(n_layers):\n",
    "                w=parameters['w'+str(l+1)]\n",
    "                regcost+=(lambd*np.sum(np.square(w)))/(2*m)\n",
    "            cost+=regcost\n",
    "            \n",
    "            \n",
    "            grads=backward_propogation(ytrain,cache,AL,n_layers,lambd,m,activation,keep_prob)\n",
    "            \n",
    "            parameters,terms=update_parameters(parameters,grads,learning_rate,n_layers,model_name,par,terms)\n",
    "            #print(parameters)\n",
    "            time2=time.time()\n",
    "            testaccuracy.append(accuracy_score(prediction(Xtest,parameters,activation),ytest))\n",
    "            trainaccuracy.append(accuracy_score(prediction(xtrain,parameters,activation),yorignew))\n",
    "            timer.append(time2-time1)\n",
    "            costarr.append(cost)\n",
    "            #if(timer[len(timer)-1]>400):\n",
    "             #   return parameters,costarr,testaccuracy,trainaccuracy,grads,terms,timer\n",
    "            \n",
    "            \n",
    "\n",
    "    return parameters,costarr,testaccuracy,trainaccuracy,grads,terms,timer"
   ]
  },
  {
   "cell_type": "code",
   "execution_count": 15,
   "metadata": {
    "scrolled": true
   },
   "outputs": [
    {
     "name": "stdout",
     "output_type": "stream",
     "text": [
      "(256, 784) (256, 1)\n",
      "(128, 256) (128, 1)\n",
      "(64, 128) (64, 1)\n",
      "(1, 64) (1, 1)\n",
      "executing 0\n",
      "0.0 %progress done\n"
     ]
    },
    {
     "ename": "ValueError",
     "evalue": "shapes (64,1) and (10,128) not aligned: 1 (dim 1) != 10 (dim 0)",
     "output_type": "error",
     "traceback": [
      "\u001b[1;31m---------------------------------------------------------------------------\u001b[0m",
      "\u001b[1;31mValueError\u001b[0m                                Traceback (most recent call last)",
      "\u001b[1;32m<ipython-input-15-e5c257871044>\u001b[0m in \u001b[0;36m<module>\u001b[1;34m\u001b[0m\n\u001b[0;32m     23\u001b[0m \u001b[0mkeep_prob\u001b[0m\u001b[1;33m=\u001b[0m\u001b[1;36m0.8\u001b[0m\u001b[1;33m\u001b[0m\u001b[1;33m\u001b[0m\u001b[0m\n\u001b[0;32m     24\u001b[0m \u001b[0mt1\u001b[0m\u001b[1;33m=\u001b[0m\u001b[0mtime\u001b[0m\u001b[1;33m.\u001b[0m\u001b[0mtime\u001b[0m\u001b[1;33m(\u001b[0m\u001b[1;33m)\u001b[0m\u001b[1;33m\u001b[0m\u001b[1;33m\u001b[0m\u001b[0m\n\u001b[1;32m---> 25\u001b[1;33m parameters,costarr,testaccuracy,trainaccuracy,grads,terms,timer=model(X,y,yorig,Xtest,ytest,model_name,n_layers,neurons_array,\n\u001b[0m\u001b[0;32m     26\u001b[0m                                                          epochs,learning_rate ,activation,mini_batch_size,lambd,keep_prob,par)\n\u001b[0;32m     27\u001b[0m \u001b[0mt2\u001b[0m\u001b[1;33m=\u001b[0m\u001b[0mtime\u001b[0m\u001b[1;33m.\u001b[0m\u001b[0mtime\u001b[0m\u001b[1;33m(\u001b[0m\u001b[1;33m)\u001b[0m\u001b[1;33m\u001b[0m\u001b[1;33m\u001b[0m\u001b[0m\n",
      "\u001b[1;32m<ipython-input-14-36979c8236cf>\u001b[0m in \u001b[0;36mmodel\u001b[1;34m(x, y, yorig, Xtest, ytest, model_name, n_layers, neurons_array, epochs, learning_rate, activation, mini_batch_size, lambd, keep_prob, par)\u001b[0m\n\u001b[0;32m     57\u001b[0m \u001b[1;33m\u001b[0m\u001b[0m\n\u001b[0;32m     58\u001b[0m \u001b[1;33m\u001b[0m\u001b[0m\n\u001b[1;32m---> 59\u001b[1;33m             \u001b[0mgrads\u001b[0m\u001b[1;33m=\u001b[0m\u001b[0mbackward_propogation\u001b[0m\u001b[1;33m(\u001b[0m\u001b[0mytrain\u001b[0m\u001b[1;33m,\u001b[0m\u001b[0mcache\u001b[0m\u001b[1;33m,\u001b[0m\u001b[0mAL\u001b[0m\u001b[1;33m,\u001b[0m\u001b[0mn_layers\u001b[0m\u001b[1;33m,\u001b[0m\u001b[0mlambd\u001b[0m\u001b[1;33m,\u001b[0m\u001b[0mm\u001b[0m\u001b[1;33m,\u001b[0m\u001b[0mactivation\u001b[0m\u001b[1;33m,\u001b[0m\u001b[0mkeep_prob\u001b[0m\u001b[1;33m)\u001b[0m\u001b[1;33m\u001b[0m\u001b[1;33m\u001b[0m\u001b[0m\n\u001b[0m\u001b[0;32m     60\u001b[0m \u001b[1;33m\u001b[0m\u001b[0m\n\u001b[0;32m     61\u001b[0m             \u001b[0mparameters\u001b[0m\u001b[1;33m,\u001b[0m\u001b[0mterms\u001b[0m\u001b[1;33m=\u001b[0m\u001b[0mupdate_parameters\u001b[0m\u001b[1;33m(\u001b[0m\u001b[0mparameters\u001b[0m\u001b[1;33m,\u001b[0m\u001b[0mgrads\u001b[0m\u001b[1;33m,\u001b[0m\u001b[0mlearning_rate\u001b[0m\u001b[1;33m,\u001b[0m\u001b[0mn_layers\u001b[0m\u001b[1;33m,\u001b[0m\u001b[0mmodel_name\u001b[0m\u001b[1;33m,\u001b[0m\u001b[0mpar\u001b[0m\u001b[1;33m,\u001b[0m\u001b[0mterms\u001b[0m\u001b[1;33m)\u001b[0m\u001b[1;33m\u001b[0m\u001b[1;33m\u001b[0m\u001b[0m\n",
      "\u001b[1;32m<ipython-input-10-872a8243a194>\u001b[0m in \u001b[0;36mbackward_propogation\u001b[1;34m(Y, cache, AL, n_layers, lambd, m, activation, keep_prob)\u001b[0m\n\u001b[0;32m     17\u001b[0m     \u001b[0mdb\u001b[0m \u001b[1;33m=\u001b[0m \u001b[1;33m(\u001b[0m\u001b[1;36m1\u001b[0m\u001b[1;33m/\u001b[0m\u001b[0mm\u001b[0m\u001b[1;33m)\u001b[0m\u001b[1;33m*\u001b[0m\u001b[0mnp\u001b[0m\u001b[1;33m.\u001b[0m\u001b[0msum\u001b[0m\u001b[1;33m(\u001b[0m\u001b[0mdZ\u001b[0m\u001b[1;33m,\u001b[0m\u001b[0maxis\u001b[0m\u001b[1;33m=\u001b[0m\u001b[1;36m1\u001b[0m\u001b[1;33m,\u001b[0m\u001b[0mkeepdims\u001b[0m\u001b[1;33m=\u001b[0m\u001b[1;32mTrue\u001b[0m\u001b[1;33m)\u001b[0m\u001b[1;33m\u001b[0m\u001b[1;33m\u001b[0m\u001b[0m\n\u001b[0;32m     18\u001b[0m     \u001b[0mdW\u001b[0m \u001b[1;33m=\u001b[0m \u001b[1;33m(\u001b[0m\u001b[1;36m1\u001b[0m\u001b[1;33m/\u001b[0m\u001b[0mm\u001b[0m\u001b[1;33m)\u001b[0m\u001b[1;33m*\u001b[0m\u001b[1;33m(\u001b[0m\u001b[0mnp\u001b[0m\u001b[1;33m.\u001b[0m\u001b[0mdot\u001b[0m\u001b[1;33m(\u001b[0m\u001b[0mdZ\u001b[0m\u001b[1;33m,\u001b[0m\u001b[0ma\u001b[0m\u001b[1;33m.\u001b[0m\u001b[0mT\u001b[0m\u001b[1;33m)\u001b[0m\u001b[1;33m)\u001b[0m\u001b[1;33m\u001b[0m\u001b[1;33m\u001b[0m\u001b[0m\n\u001b[1;32m---> 19\u001b[1;33m     \u001b[0mdA\u001b[0m\u001b[1;33m=\u001b[0m\u001b[0mnp\u001b[0m\u001b[1;33m.\u001b[0m\u001b[0mdot\u001b[0m\u001b[1;33m(\u001b[0m\u001b[0mw\u001b[0m\u001b[1;33m.\u001b[0m\u001b[0mT\u001b[0m\u001b[1;33m,\u001b[0m\u001b[0mdZ\u001b[0m\u001b[1;33m)\u001b[0m\u001b[1;33m\u001b[0m\u001b[1;33m\u001b[0m\u001b[0m\n\u001b[0m\u001b[0;32m     20\u001b[0m     \u001b[0mdW\u001b[0m\u001b[1;33m+=\u001b[0m\u001b[0mw\u001b[0m\u001b[1;33m*\u001b[0m\u001b[1;33m(\u001b[0m\u001b[0mlambd\u001b[0m\u001b[1;33m/\u001b[0m\u001b[0mm\u001b[0m\u001b[1;33m)\u001b[0m\u001b[1;33m\u001b[0m\u001b[1;33m\u001b[0m\u001b[0m\n\u001b[0;32m     21\u001b[0m     \u001b[0mdb\u001b[0m\u001b[1;33m+=\u001b[0m\u001b[0mb\u001b[0m\u001b[1;33m*\u001b[0m\u001b[1;33m(\u001b[0m\u001b[0mlambd\u001b[0m\u001b[1;33m/\u001b[0m\u001b[0mm\u001b[0m\u001b[1;33m)\u001b[0m\u001b[1;33m\u001b[0m\u001b[1;33m\u001b[0m\u001b[0m\n",
      "\u001b[1;32m<__array_function__ internals>\u001b[0m in \u001b[0;36mdot\u001b[1;34m(*args, **kwargs)\u001b[0m\n",
      "\u001b[1;31mValueError\u001b[0m: shapes (64,1) and (10,128) not aligned: 1 (dim 1) != 10 (dim 0)"
     ]
    }
   ],
   "source": [
    "model_name=\"adam\"\n",
    "mini_batch_size=128\n",
    "#after fixing mini batch size,other paramters can be optimized except momentum as it depends on batch size\n",
    "par={}                #model parameters for sgdm,rmsprop and adam\n",
    "if(model_name==\"sgd\"):\n",
    "    mini_batch_size=1\n",
    "elif(model_name==\"gd\"):\n",
    "    mini_batch_size=X.shape[0]\n",
    "elif(model_name=='sgdm'):\n",
    "    par['beta']=0.8\n",
    "elif(model_name=='rmsprop'):\n",
    "    par['beta']=0.999\n",
    "elif(model_name=='adam'):\n",
    "    par['betav'],par['betas']=0.8,0.999\n",
    "    \n",
    "\n",
    "neurons_array=[256,128,64,1]\n",
    "n_layers=len(neurons_array)\n",
    "epochs=10\n",
    "learning_rate=0.001\n",
    "activation=\"sigmoid\"\n",
    "lambd=0\n",
    "keep_prob=0.8\n",
    "t1=time.time()\n",
    "parameters,costarr,testaccuracy,trainaccuracy,grads,terms,timer=model(X,y,yorig,Xtest,ytest,model_name,n_layers,neurons_array,\n",
    "                                                         epochs,learning_rate ,activation,mini_batch_size,lambd,keep_prob,par)\n",
    "t2=time.time()\n",
    "tim=t2-t1"
   ]
  },
  {
   "cell_type": "code",
   "execution_count": null,
   "metadata": {},
   "outputs": [],
   "source": [
    "pred1 = prediction(Xtest,parameters,activation)\n",
    "pred2= prediction(X,parameters,activation)\n",
    "print(\"Model name=\",model_name)\n",
    "print(\"Activation=\",activation)\n",
    "print(\"Learning rate=\",learning_rate)\n",
    "print(\"Epochs=\",epochs)\n",
    "print(\"Mini batch size=\",mini_batch_size)\n",
    "print(\"L2 regularization parameter=\",lambd)\n",
    "print(\"Dropout parameter=\",keep_prob)\n",
    "print(\"Model parameter=\",par)\n",
    "print(\"Hidden layers=\",neurons_array)\n",
    "print(\"Test accuracy=\",accuracy_score(pred1,ytest)*100,\"%\")\n",
    "print(\"Train accuracy=\",accuracy_score(pred2,yorig)*100,\"%\")\n",
    "print(\"Time=\",tim)"
   ]
  },
  {
   "cell_type": "code",
   "execution_count": 34,
   "metadata": {
    "scrolled": true
   },
   "outputs": [
    {
     "data": {
      "image/png": "[encoded data removed]",
      "text/plain": [
       "<Figure size 432x288 with 1 Axes>"
      ]
     },
     "metadata": {
      "needs_background": "light"
     },
     "output_type": "display_data"
    }
   ],
   "source": [
    "plt.plot(np.arange(1,len(costarr)+1),costarr)\n",
    "plt.xlabel('Epochs')\n",
    "plt.ylabel('Cost')\n",
    "plt.show()"
   ]
  },
  {
   "cell_type": "code",
   "execution_count": 35,
   "metadata": {
    "scrolled": false
   },
   "outputs": [
    {
     "data": {
      "image/png": "[encoded data removed]",
      "text/plain": [
       "<Figure size 432x288 with 1 Axes>"
      ]
     },
     "metadata": {
      "needs_background": "light"
     },
     "output_type": "display_data"
    }
   ],
   "source": [
    "plt.plot(np.arange(1,len(trainaccuracy)+1),trainaccuracy,label=\"training data\")\n",
    "plt.plot(np.arange(1,len(trainaccuracy)+1),testaccuracy,label=\"testing data\")\n",
    "plt.legend()\n",
    "plt.show()"
   ]
  },
  {
   "cell_type": "code",
   "execution_count": null,
   "metadata": {
    "scrolled": true
   },
   "outputs": [],
   "source": []
  },
  {
   "cell_type": "code",
   "execution_count": null,
   "metadata": {},
   "outputs": [],
   "source": []
  },
  {
   "cell_type": "code",
   "execution_count": 30,
   "metadata": {},
   "outputs": [
    {
     "name": "stdout",
     "output_type": "stream",
     "text": [
      "0.9867 at 4224\n"
     ]
    }
   ],
   "source": [
    "print(max(testaccuracy) ,\"at\", testaccuracy.index(max(testaccuracy)))"
   ]
  },
  {
   "cell_type": "code",
   "execution_count": 31,
   "metadata": {},
   "outputs": [
    {
     "data": {
      "text/plain": [
       "(2397.9117934703827, 0.9867, 1.0)"
      ]
     },
     "execution_count": 31,
     "metadata": {},
     "output_type": "execute_result"
    }
   ],
   "source": [
    "j=4224\n",
    "timer[j],testaccuracy[j],trainaccuracy[j]"
   ]
  },
  {
   "cell_type": "code",
   "execution_count": 20,
   "metadata": {
    "scrolled": true
   },
   "outputs": [
    {
     "data": {
      "text/plain": [
       "4690"
      ]
     },
     "execution_count": 20,
     "metadata": {},
     "output_type": "execute_result"
    }
   ],
   "source": [
    "len(testaccuracy)"
   ]
  },
  {
   "cell_type": "code",
   "execution_count": 21,
   "metadata": {},
   "outputs": [
    {
     "data": {
      "text/plain": [
       "0.0009000000000000119"
      ]
     },
     "execution_count": 21,
     "metadata": {},
     "output_type": "execute_result"
    }
   ],
   "source": [
    "slope=(testaccuracy[j]-testaccuracy[j-1])\n",
    "slope"
   ]
  },
  {
   "cell_type": "code",
   "execution_count": 22,
   "metadata": {},
   "outputs": [
    {
     "data": {
      "image/png": "[encoded data removed]",
      "text/plain": [
       "<Figure size 432x288 with 1 Axes>"
      ]
     },
     "metadata": {
      "needs_background": "light"
     },
     "output_type": "display_data"
    }
   ],
   "source": [
    "plt.plot(np.arange(1,j+1),trainaccuracy[:j],label=\"training data\")\n",
    "plt.plot(np.arange(1,j+1),testaccuracy[:j],label=\"testing data\")\n",
    "#plt.plot([17,17],[0.4,0.8])\n",
    "plt.legend()\n",
    "plt.show()"
   ]
  },
  {
   "cell_type": "code",
   "execution_count": 188,
   "metadata": {},
   "outputs": [],
   "source": [
    "def gradient_checking(X,y,n_layers,lambd,parameters,activation,keep_prob,epsilon=1e-7):\n",
    "    keys=parameters.keys()\n",
    "    grads_check={}\n",
    "    grads={}\n",
    "    m=y.shape[1]\n",
    "    \n",
    "    cache,AL=forward_propogation(X,n_layers,parameters,activation,keep_prob)\n",
    "    grad=backward_propogation(y,cache,AL,n_layers,lambd,m,activation,keep_prob)\n",
    "    \n",
    "    for i in reversed(list(grad.keys())):\n",
    "        if(i[1]=='w'):\n",
    "            grads[i]=grad[i]\n",
    "            \n",
    "        \n",
    "    for i in keys:\n",
    "        if(i[0]=='w'):\n",
    "            parameters_plus= parameters.copy()\n",
    "            parameters_minus=parameters.copy()\n",
    "            parameters_plus[i] = parameters_plus[i] + epsilon\n",
    "            parameters_minus[i]= parameters_minus[i] - epsilon\n",
    "             \n",
    "            cache1,aplus=forward_propogation(X,n_layers,parameters_plus,activation,keep_prob)\n",
    "            cache2,aminus=forward_propogation(X,n_layers,parameters_minus,activation,keep_prob)\n",
    "            \n",
    "            if(activation==\"softmax\"):\n",
    "                costplus = aplus-y\n",
    "                costminus= aminus-y\n",
    "            \n",
    "            #costplusss = (-1 / m) * np.sum(np.multiply(y, np.log(aplus)))\n",
    "            #print(costplusss)\n",
    "            \n",
    "            grads_check[\"d\"+i]=(aplus.T-aminus.T)/(2*epsilon)\n",
    "            print(grads_check[\"d\"+i].shape,grads[\"d\"+i].shape)\n",
    "    \n",
    "    print(grads)\n",
    "    print(\"-----------------------------------------------------------------\")\n",
    "    print(grads_check)\n",
    "    numerator = np.linalg.norm(grads - grads_check)                                     \n",
    "    denominator = np.linalg.norm(grads) + np.linalg.norm(grads)\n",
    "    difference = numerator / denominator\n",
    "    \n",
    "    if difference > 10e-7:\n",
    "        print(\"\\033[93m\" + \"There is a mistake in the backward propagation! difference = \" + str(difference) + \"\\033[0m\")\n",
    "    else:\n",
    "        print(\"\\033[92m\" + \"Your backward propagation works perfectly fine! difference = \" + str(difference) + \"\\033[0m\")"
   ]
  },
  {
   "cell_type": "code",
   "execution_count": null,
   "metadata": {},
   "outputs": [],
   "source": [
    "#gradient_checking(X,y,n_layers,lambd,parameters,activation,keep_prob)"
   ]
  },
  {
   "cell_type": "code",
   "execution_count": null,
   "metadata": {},
   "outputs": [],
   "source": [
    "Rmsprop and adam were giving nan vauesif learning rate was greater than or equal to 0.1 but why was it happening because values\n",
    "were not that large ki 1 iteration me nan ho jaae\n",
    "at 0.05 gave only 73% accuracy while at 0.01 gave 96%\n",
    "at 0.08 it became nan but very after in cmparison to 0.1 means 17%\n",
    "at 0.07 also nan at 28.59%progress\n",
    "at 0.06 no nan but accuracy 52%\n",
    "at 0.03 gave 80% accuracy"
   ]
  },
  {
   "cell_type": "code",
   "execution_count": null,
   "metadata": {},
   "outputs": [],
   "source": [
    "Test Accuracy with softmax as last layer activation function with learning rate 0.001 epochs 10 regularization parameter 0\n",
    "droput prob 1 mini_batch_size 128 and layers as [500, 10] is 98.15 % and training accuracy is 99.91833333333334 % with adam"
   ]
  },
  {
   "cell_type": "code",
   "execution_count": null,
   "metadata": {},
   "outputs": [],
   "source": [
    "parameters to check for vary-neurons_array,epochs,learning_rate,activation,mini_batch_size,lambd,keep_prob,par for all models\n",
    "models-adam,sgdm,rmsprop,mbgd,sgd,gd,"
   ]
  },
  {
   "cell_type": "code",
   "execution_count": null,
   "metadata": {},
   "outputs": [],
   "source": [
    "also see by using different cost function like cross entropy,quadratic loss at last"
   ]
  },
  {
   "cell_type": "code",
   "execution_count": null,
   "metadata": {},
   "outputs": [],
   "source": []
  },
  {
   "cell_type": "code",
   "execution_count": null,
   "metadata": {},
   "outputs": [],
   "source": []
  }
 ],
 "metadata": {
  "kernelspec": {
   "display_name": "Python 3 (ipykernel)",
   "language": "python",
   "name": "python3"
  },
  "language_info": {
   "codemirror_mode": {
    "name": "ipython",
    "version": 3
   },
   "file_extension": ".py",
   "mimetype": "text/x-python",
   "name": "python",
   "nbconvert_exporter": "python",
   "pygments_lexer": "ipython3",
   "version": "3.7.7"
  }
 },
 "nbformat": 4,
 "nbformat_minor": 4
}
